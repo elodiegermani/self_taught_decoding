{
 "cells": [
  {
   "cell_type": "code",
   "execution_count": 1,
   "id": "91c59866",
   "metadata": {},
   "outputs": [],
   "source": [
    "from lib import cnn_tester\n",
    "import sys\n",
    "sys.path.insert(0, '../src')\n",
    "from lib import datasets\n",
    "\n",
    "from os.path import join as opj\n",
    "import pandas as pd\n",
    "import numpy as np\n",
    "import torch\n",
    "import os\n",
    "import matplotlib.pyplot as plt\n",
    "from scipy import stats\n",
    "import seaborn as sns\n",
    "\n",
    "# import warnings filter\n",
    "from warnings import simplefilter\n",
    "# ignore all future warnings\n",
    "simplefilter(action='ignore', category=FutureWarning)\n",
    "simplefilter(action='ignore', category=UserWarning)\n",
    "simplefilter(action='ignore', category=RuntimeWarning)"
   ]
  },
  {
   "cell_type": "markdown",
   "id": "87364270",
   "metadata": {},
   "source": [
    "# Hyperparameters validation - Computation of performance"
   ]
  },
  {
   "cell_type": "code",
   "execution_count": 2,
   "id": "f65c2898",
   "metadata": {},
   "outputs": [],
   "source": [
    "# Directories\n",
    "data_dir = '../data/preprocessed/HCP_dataset'\n",
    "out_dir = '../data/derived/HCP_dataset'"
   ]
  },
  {
   "cell_type": "code",
   "execution_count": 3,
   "id": "487d54ba",
   "metadata": {},
   "outputs": [],
   "source": [
    "# Specific setup\n",
    "preprocess_type = 'resampled_masked_normalized'\n",
    "\n",
    "# Training setup \n",
    "train_subset ='hcp_global_dataset'\n",
    "lr = '1e-04'\n",
    "model_to_test = ['model_cnn_4layers', 'model_cnn_5layers']\n",
    "init_to_test = ['retrain_no', 'retrain_all']\n",
    "batch_to_test = [32, 64]\n",
    "\n",
    "# Validation setup\n",
    "valid_id_file = opj(data_dir, f'valid_hcp_global_dataset.txt')\n",
    "label_file = opj(data_dir, f'hcp_global_dataset_labels.csv')\n",
    "label_col = 'contrast'\n",
    "label_df = pd.read_csv(label_file)\n",
    "label_list = sorted(np.unique(label_df[label_col]))\n",
    "\n",
    "valid_set = datasets.ClassifDataset(opj(data_dir, preprocess_type), valid_id_file, label_file, label_col, \n",
    "                        label_list)"
   ]
  },
  {
   "cell_type": "code",
   "execution_count": 4,
   "id": "61736d23",
   "metadata": {},
   "outputs": [
    {
     "name": "stdout",
     "output_type": "stream",
     "text": [
      "Validation metrics already computed.\n"
     ]
    }
   ],
   "source": [
    "# Supplementary Figure S2 - Performance on classification of global HCP dataset of models \n",
    "# with different hyperparameters. \n",
    "\n",
    "accuracies = []\n",
    "f1_list = []\n",
    "model_list = []\n",
    "arch_list = []\n",
    "epochs_list = []\n",
    "batch_list = []\n",
    "prec_list = []\n",
    "rec_list = []\n",
    "\n",
    "if not os.path.exists('../figures/validation_model_hcp.csv'):\n",
    "    print('Calculating validation performance...')\n",
    "    for model in model_to_test:\n",
    "        for init in init_to_test:\n",
    "            if init == 'retrain_no':\n",
    "                epochs_to_test = [200, 500]\n",
    "            else:\n",
    "                epochs_to_test = [200]\n",
    "\n",
    "            for epochs in epochs_to_test:\n",
    "                for batch in batch_to_test:\n",
    "                    \n",
    "                    model_list.append(init)\n",
    "                    arch_list.append(model)\n",
    "                    batch_list.append(batch)\n",
    "                    epochs_list.append(epochs)\n",
    "                    \n",
    "                    \n",
    "                    # Model to test\n",
    "                    parameter_file = opj(out_dir, f\"{train_subset}_maps_classification_contrast_{model}_\" + \\\n",
    "                            f\"{init}_{preprocess_type}_epochs_{epochs}_batch_size_{batch}_lr_{lr}\", \n",
    "                                         \"model_final.pt\")\n",
    "\n",
    "                    acc, f1, prec, rec, acc_class = cnn_tester.tester(valid_set, parameter_file) # Compute results\n",
    "\n",
    "                    accuracies.append(acc)\n",
    "                    f1_list.append(f1)\n",
    "                    prec_list.append(prec)\n",
    "                    rec_list.append(rec)\n",
    "                    \n",
    "    # Creation of dataframe with results\n",
    "    init_list = ['Default algorithm' if i == 'retrain_no' else 'Pre-trained CAE' for i in model_list]\n",
    "\n",
    "    arch_list = ['5 layers' if i == 'model_cnn_5layers' else '4 layers' for i in arch_list]\n",
    "\n",
    "    df = pd.DataFrame()\n",
    "    df['Accuracy']=accuracies\n",
    "    df['F1']=f1_list\n",
    "    df['Initialization']=init_list\n",
    "    df['Batch']=batch_list\n",
    "    df['Epochs']=epochs_list\n",
    "    df['Architecture']=arch_list\n",
    "    df['Precision']=prec_list\n",
    "    df['Recall']=rec_list\n",
    "\n",
    "    df.to_csv('../figures/validation_model_hcp.csv') \n",
    "    \n",
    "else: \n",
    "    print('Validation metrics already computed.')"
   ]
  },
  {
   "cell_type": "markdown",
   "id": "e11c2ec3",
   "metadata": {},
   "source": [
    "# Hyperparameter validation - Exploration of results"
   ]
  },
  {
   "cell_type": "markdown",
   "id": "3e05e964",
   "metadata": {},
   "source": [
    "### Table 3 - Hyperparameters chosen for each dataset and corresponding performance of the classifier on the validation set of the dataset \n",
    "\n",
    "Here, we computed the results of Table 3 for HCP dataset."
   ]
  },
  {
   "cell_type": "code",
   "execution_count": 5,
   "id": "ef1c8384",
   "metadata": {},
   "outputs": [
    {
     "data": {
      "text/html": [
       "<div>\n",
       "<style scoped>\n",
       "    .dataframe tbody tr th:only-of-type {\n",
       "        vertical-align: middle;\n",
       "    }\n",
       "\n",
       "    .dataframe tbody tr th {\n",
       "        vertical-align: top;\n",
       "    }\n",
       "\n",
       "    .dataframe thead th {\n",
       "        text-align: right;\n",
       "    }\n",
       "</style>\n",
       "<table border=\"1\" class=\"dataframe\">\n",
       "  <thead>\n",
       "    <tr style=\"text-align: right;\">\n",
       "      <th></th>\n",
       "      <th>Unnamed: 0</th>\n",
       "      <th>Unnamed: 0.1</th>\n",
       "      <th>Accuracy</th>\n",
       "      <th>F1</th>\n",
       "      <th>Initialization</th>\n",
       "      <th>Batch</th>\n",
       "      <th>Epochs</th>\n",
       "      <th>Architecture</th>\n",
       "      <th>Precision</th>\n",
       "      <th>Recall</th>\n",
       "    </tr>\n",
       "  </thead>\n",
       "  <tbody>\n",
       "    <tr>\n",
       "      <th>3</th>\n",
       "      <td>3</td>\n",
       "      <td>3</td>\n",
       "      <td>0.910815</td>\n",
       "      <td>0.911404</td>\n",
       "      <td>Default algorithm</td>\n",
       "      <td>64</td>\n",
       "      <td>500</td>\n",
       "      <td>4 layers</td>\n",
       "      <td>0.912956</td>\n",
       "      <td>0.911757</td>\n",
       "    </tr>\n",
       "  </tbody>\n",
       "</table>\n",
       "</div>"
      ],
      "text/plain": [
       "   Unnamed: 0  Unnamed: 0.1  Accuracy        F1     Initialization  Batch  \\\n",
       "3           3             3  0.910815  0.911404  Default algorithm     64   \n",
       "\n",
       "   Epochs Architecture  Precision    Recall  \n",
       "3     500     4 layers   0.912956  0.911757  "
      ]
     },
     "execution_count": 5,
     "metadata": {},
     "output_type": "execute_result"
    }
   ],
   "source": [
    "df = pd.read_csv('../figures/validation_model_hcp.csv') \n",
    "df[df['Initialization']=='Default algorithm'].nlargest(1, ['Accuracy', 'F1'])"
   ]
  },
  {
   "cell_type": "code",
   "execution_count": 6,
   "id": "8bd2d50d",
   "metadata": {},
   "outputs": [
    {
     "data": {
      "text/html": [
       "<div>\n",
       "<style scoped>\n",
       "    .dataframe tbody tr th:only-of-type {\n",
       "        vertical-align: middle;\n",
       "    }\n",
       "\n",
       "    .dataframe tbody tr th {\n",
       "        vertical-align: top;\n",
       "    }\n",
       "\n",
       "    .dataframe thead th {\n",
       "        text-align: right;\n",
       "    }\n",
       "</style>\n",
       "<table border=\"1\" class=\"dataframe\">\n",
       "  <thead>\n",
       "    <tr style=\"text-align: right;\">\n",
       "      <th></th>\n",
       "      <th>Unnamed: 0</th>\n",
       "      <th>Unnamed: 0.1</th>\n",
       "      <th>Accuracy</th>\n",
       "      <th>F1</th>\n",
       "      <th>Initialization</th>\n",
       "      <th>Batch</th>\n",
       "      <th>Epochs</th>\n",
       "      <th>Architecture</th>\n",
       "      <th>Precision</th>\n",
       "      <th>Recall</th>\n",
       "    </tr>\n",
       "  </thead>\n",
       "  <tbody>\n",
       "    <tr>\n",
       "      <th>11</th>\n",
       "      <td>13</td>\n",
       "      <td>13</td>\n",
       "      <td>0.915345</td>\n",
       "      <td>0.915654</td>\n",
       "      <td>Pre-trained CAE</td>\n",
       "      <td>64</td>\n",
       "      <td>200</td>\n",
       "      <td>5 layers</td>\n",
       "      <td>0.916488</td>\n",
       "      <td>0.915588</td>\n",
       "    </tr>\n",
       "  </tbody>\n",
       "</table>\n",
       "</div>"
      ],
      "text/plain": [
       "    Unnamed: 0  Unnamed: 0.1  Accuracy        F1   Initialization  Batch  \\\n",
       "11          13            13  0.915345  0.915654  Pre-trained CAE     64   \n",
       "\n",
       "    Epochs Architecture  Precision    Recall  \n",
       "11     200     5 layers   0.916488  0.915588  "
      ]
     },
     "execution_count": 6,
     "metadata": {},
     "output_type": "execute_result"
    }
   ],
   "source": [
    "df[df['Initialization']=='Pre-trained CAE'].nlargest(1, ['Accuracy', 'F1'])"
   ]
  },
  {
   "cell_type": "markdown",
   "id": "10d6b931",
   "metadata": {},
   "source": [
    "# Test models with cross-validation"
   ]
  },
  {
   "cell_type": "markdown",
   "id": "9236b2b8",
   "metadata": {},
   "source": [
    "## Contrast classification - Table 4 and Figure 4"
   ]
  },
  {
   "cell_type": "code",
   "execution_count": 7,
   "id": "0340c936",
   "metadata": {},
   "outputs": [
    {
     "name": "stdout",
     "output_type": "stream",
     "text": [
      "Performance already computed.\n"
     ]
    }
   ],
   "source": [
    "# Table 4 - Classification performance on HCP datasets of models initialized with default algorithm vs \n",
    "# with the weights of a pre-trained CAE. \n",
    "# PART 1 - CLASSIFICATION OF CONTRASTS \n",
    "if not os.path.exists('../figures/test_hcp_contrast_sample_size.csv'):\n",
    "    print('Calculating performance...')\n",
    "    accuracies = []\n",
    "    f1_list = []\n",
    "    prec_list = []\n",
    "    rec_list = []\n",
    "    prec_list = []\n",
    "    model_list = []\n",
    "    n_list=[]\n",
    "\n",
    "    lr = '1e-04'\n",
    "\n",
    "    for n in ['50', '100', '200', '500', 'global']: # Iterates on all sample sizes \n",
    "        # Name of the training set used \n",
    "        train_subset ='hcp_global_dataset_' + n\n",
    "        test_subset = 'hcp_global_dataset_' + n\n",
    "\n",
    "        if n =='global':\n",
    "            train_subset = 'hcp_global_dataset'\n",
    "            test_subset ='hcp_global_dataset'\n",
    "\n",
    "        # Cross-validation - Each model was tested on the corresponding testing fold of the GLOBAL HCP dataset\n",
    "        train_id_file = opj(data_dir, f'train_hcp_global_dataset.txt')\n",
    "        test_id_file = opj(data_dir, f'test_hcp_global_dataset.txt')\n",
    "        label_file = opj(data_dir, f'hcp_global_dataset_labels.csv')\n",
    "        label_col = 'contrast'\n",
    "        label_filelist = pd.read_csv(opj('../data/preprocessed/HCP_dataset', \n",
    "                                     f'hcp_global_dataset_labels.csv'))\n",
    "\n",
    "        label_list = sorted(np.unique(label_filelist['contrast']))\n",
    "\n",
    "        train_set = datasets.ClassifDataset(opj(data_dir, preprocess_type), train_id_file, label_file, label_col,\n",
    "                                           label_list)\n",
    "        test_set = datasets.ClassifDataset(opj(data_dir, preprocess_type), test_id_file, label_file, label_col,\n",
    "                                          label_list)\n",
    "\n",
    "        # Compute results performance for DEFAULT ALGORITHM\n",
    "        model = 'model_cnn_4layers_retrain_no'\n",
    "        epochs = 500\n",
    "        batch=64\n",
    "        model_list.append('Default algorithm')\n",
    "        parameter_file = opj(out_dir, \n",
    "    f'{train_subset}_maps_classification_contrast_{model}_{preprocess_type}_epochs_{epochs}_batch_size_{batch}_lr_{lr}', \n",
    "                                     f'model_best.pt')\n",
    "\n",
    "        acc, f1, prec, rec, acc_class = cnn_tester.tester(test_set, parameter_file)\n",
    "\n",
    "        accuracies.append(acc)\n",
    "        f1_list.append(f1)\n",
    "        n_list.append(n)\n",
    "        prec_list.append(prec)\n",
    "        rec_list.append(rec)\n",
    "\n",
    "        # Compute results performance for PRE-TRAINED CAE \n",
    "        model = 'model_cnn_5layers_retrain_all'\n",
    "        epochs = 200\n",
    "        batch=64\n",
    "        model_list.append('Pre-trained CAE')\n",
    "\n",
    "        parameter_file = opj(out_dir, \n",
    "            f'{train_subset}_maps_classification_{label_col}_' + \\\n",
    "                             f'{model}_{preprocess_type}_epochs_{epochs}_batch_size_{batch}_lr_{lr}', \n",
    "                                     f'model_best.pt')\n",
    "\n",
    "        acc, f1, prec, rec, acc_class = cnn_tester.tester(test_set, parameter_file)\n",
    "\n",
    "        accuracies.append(acc)\n",
    "        f1_list.append(f1)\n",
    "        n_list.append(n)\n",
    "        prec_list.append(prec)\n",
    "        rec_list.append(rec)\n",
    "            \n",
    "    df = pd.DataFrame()\n",
    "    df['Accuracy']=accuracies\n",
    "    df['F1']=f1_list\n",
    "    df['Model']=model_list\n",
    "    df['Precision']=prec_list\n",
    "    df['Recall']= rec_list\n",
    "    df['Subject']=n_list\n",
    "\n",
    "    df.to_csv('../figures/test_hcp_contrast_sample_size.csv') # Global dataframe \n",
    "else:\n",
    "    print('Performance already computed.')"
   ]
  },
  {
   "cell_type": "code",
   "execution_count": 8,
   "id": "c5e3c2a8",
   "metadata": {},
   "outputs": [],
   "source": [
    "df = pd.read_csv('../figures/test_hcp_contrast_sample_size.csv')"
   ]
  },
  {
   "cell_type": "code",
   "execution_count": 9,
   "id": "ed4cbb20",
   "metadata": {},
   "outputs": [
    {
     "name": "stdout",
     "output_type": "stream",
     "text": [
      "Sample 50\n",
      "Default algorithm\n",
      "78.6\n",
      "Pre-trained CAE\n",
      "83.5\n",
      "Sample 100\n",
      "Default algorithm\n",
      "84.3\n",
      "Pre-trained CAE\n",
      "87.4\n",
      "Sample 200\n",
      "Default algorithm\n",
      "88.5\n",
      "Pre-trained CAE\n",
      "90.1\n",
      "Sample 500\n",
      "Default algorithm\n",
      "91.4\n",
      "Pre-trained CAE\n",
      "92.2\n",
      "Sample global\n",
      "Default algorithm\n",
      "92.5\n",
      "Pre-trained CAE\n",
      "92.3\n"
     ]
    }
   ],
   "source": [
    "# Mean values and standard errors\n",
    "for sub in ['50', '100', '200', '500', 'global']:\n",
    "    print('Sample', sub)\n",
    "    print('Default algorithm')\n",
    "    print(str(round(np.mean(df['Accuracy'][df['Model']=='Default algorithm'][df['Subject']==sub]) * 100, 1)))\n",
    "    \n",
    "    print('Pre-trained CAE')\n",
    "    print(str(round(np.mean(df['Accuracy'][df['Model']=='Pre-trained CAE'][df['Subject']==sub]) * 100, 1)))"
   ]
  },
  {
   "cell_type": "code",
   "execution_count": 10,
   "id": "34c62a3c",
   "metadata": {},
   "outputs": [
    {
     "data": {
      "image/png": "[encoded data removed]",
      "text/plain": [
       "<Figure size 432x288 with 1 Axes>"
      ]
     },
     "metadata": {},
     "output_type": "display_data"
    }
   ],
   "source": [
    "# Plot figure \n",
    "sns.set_theme(style=\"whitegrid\")\n",
    "\n",
    "ax = sns.pointplot(x=\"Subject\", y=\"Accuracy\", hue=\"Model\",\n",
    "                 data=df, ci=None)\n",
    "\n",
    "ax = sns.lineplot(x=\"Subject\", y=\"Accuracy\", hue=\"Model\",\n",
    "                 data=df, ci='sd', legend=False)\n",
    "\n",
    "ax.set_title(\"Contrast classification\")\n",
    "ax.set_ylim(0.70, 1)\n",
    "\n",
    "ax.figure.savefig('../figures/fig4.png')"
   ]
  },
  {
   "cell_type": "markdown",
   "id": "aa886338",
   "metadata": {},
   "source": [
    "## Task classification - Table 4 and Figure 5"
   ]
  },
  {
   "cell_type": "code",
   "execution_count": 11,
   "id": "60f92cdc",
   "metadata": {},
   "outputs": [
    {
     "name": "stdout",
     "output_type": "stream",
     "text": [
      "Performance already computed.\n"
     ]
    }
   ],
   "source": [
    "# Table 4 - Classification performance on HCP datasets of models initialized with default algorithm vs \n",
    "# with the weights of a pre-trained CAE. \n",
    "# PART 1 - CLASSIFICATION OF CONTRASTS \n",
    "if not os.path.exists('../figures/test_hcp_task_sample_size.csv'):\n",
    "    print('Calculating performance...')\n",
    "    accuracies = []\n",
    "    f1_list = []\n",
    "    prec_list = []\n",
    "    rec_list = []\n",
    "    prec_list = []\n",
    "    model_list = []\n",
    "    n_list=[]\n",
    "\n",
    "    lr = '1e-04'\n",
    "\n",
    "    for n in ['50', '100', '200', '500', 'global']: # Iterates on all sample sizes \n",
    "        # Name of the training set used \n",
    "        train_subset ='hcp_global_dataset_' + n\n",
    "        test_subset = 'hcp_global_dataset_' + n\n",
    "\n",
    "        if n =='global':\n",
    "            train_subset = 'hcp_global_dataset'\n",
    "            test_subset ='hcp_global_dataset'\n",
    "\n",
    "        # Cross-validation - Each model was tested on the corresponding testing fold of the GLOBAL HCP dataset\n",
    "        train_id_file = opj(data_dir, f'train_hcp_global_dataset.txt')\n",
    "        test_id_file = opj(data_dir, f'test_hcp_global_dataset.txt')\n",
    "        label_file = opj(data_dir, f'hcp_global_dataset_labels.csv')\n",
    "        label_col = 'task'\n",
    "        label_filelist = pd.read_csv(opj('../data/preprocessed/HCP_dataset', \n",
    "                                     f'hcp_global_dataset_labels.csv'))\n",
    "\n",
    "        label_list = sorted(np.unique(label_filelist[label_col]))\n",
    "\n",
    "        train_set = datasets.ClassifDataset(opj(data_dir, preprocess_type), train_id_file, label_file, label_col,\n",
    "                                           label_list)\n",
    "        test_set = datasets.ClassifDataset(opj(data_dir, preprocess_type), test_id_file, label_file, label_col,\n",
    "                                          label_list)\n",
    "\n",
    "        # Compute results performance for DEFAULT ALGORITHM\n",
    "        model = 'model_cnn_4layers_retrain_no'\n",
    "        epochs = 500\n",
    "        batch=64\n",
    "        model_list.append('Default algorithm')\n",
    "        parameter_file = opj(out_dir, \n",
    "    f'{train_subset}_maps_classification_{label_col}_{model}' + \\\n",
    "                             f'_{preprocess_type}_epochs_{epochs}_batch_size_{batch}_lr_{lr}', \n",
    "                                     f'model_best.pt')\n",
    "\n",
    "        acc, f1, prec, rec, acc_class = cnn_tester.tester(test_set, parameter_file)\n",
    "\n",
    "        accuracies.append(acc)\n",
    "        f1_list.append(f1)\n",
    "        n_list.append(n)\n",
    "        prec_list.append(prec)\n",
    "        rec_list.append(rec)\n",
    "\n",
    "        # Compute results performance for PRE-TRAINED CAE \n",
    "        model = 'model_cnn_5layers_retrain_all'\n",
    "        epochs = 200\n",
    "        batch=64\n",
    "        model_list.append('Pre-trained CAE')\n",
    "\n",
    "        parameter_file = opj(out_dir, \n",
    "            f'{train_subset}_maps_classification_{label_col}_' + \\\n",
    "                             f'{model}_{preprocess_type}_epochs_{epochs}_batch_size_{batch}_lr_{lr}', \n",
    "                                     f'model_best.pt')\n",
    "\n",
    "        acc, f1, prec, rec, acc_class = cnn_tester.tester(test_set, parameter_file)\n",
    "\n",
    "        accuracies.append(acc)\n",
    "        f1_list.append(f1)\n",
    "        n_list.append(n)\n",
    "        prec_list.append(prec)\n",
    "        rec_list.append(rec)\n",
    "\n",
    "    df = pd.DataFrame()\n",
    "\n",
    "    df['Accuracy']=accuracies\n",
    "    df['F1']=f1_list\n",
    "    df['Model']=model_list\n",
    "    df['Subject']=n_list\n",
    "    df['Precision']=prec_list\n",
    "    df['Recall']=rec_list\n",
    "\n",
    "    df.to_csv('../figures/test_hcp_task_sample_size.csv')\n",
    "else:\n",
    "    print('Performance already computed.')"
   ]
  },
  {
   "cell_type": "code",
   "execution_count": 12,
   "id": "a65fd346",
   "metadata": {},
   "outputs": [],
   "source": [
    "df = pd.read_csv('../figures/test_hcp_task_sample_size.csv')"
   ]
  },
  {
   "cell_type": "code",
   "execution_count": 13,
   "id": "2e7d118b",
   "metadata": {},
   "outputs": [
    {
     "name": "stdout",
     "output_type": "stream",
     "text": [
      "Sample 50\n",
      "Default algorithm\n",
      "96.2\n",
      "Pre-trained CAE\n",
      "97.6\n",
      "Sample 100\n",
      "Default algorithm\n",
      "98.3\n",
      "Pre-trained CAE\n",
      "98.6\n",
      "Sample 200\n",
      "Default algorithm\n",
      "99.1\n",
      "Pre-trained CAE\n",
      "98.9\n",
      "Sample 500\n",
      "Default algorithm\n",
      "99.6\n",
      "Pre-trained CAE\n",
      "99.6\n",
      "Sample global\n",
      "Default algorithm\n",
      "99.7\n",
      "Pre-trained CAE\n",
      "99.7\n"
     ]
    }
   ],
   "source": [
    "# Mean values and standard errors\n",
    "for sub in ['50', '100', '200', '500', 'global']:\n",
    "    print('Sample', sub)\n",
    "    print('Default algorithm')\n",
    "    print(str(round(np.mean(df['Accuracy'][df['Model']=='Default algorithm'][df['Subject']==sub]) * 100, 1)))\n",
    "    \n",
    "    print('Pre-trained CAE')\n",
    "    print(str(round(np.mean(df['Accuracy'][df['Model']=='Pre-trained CAE'][df['Subject']==sub]) * 100, 1)))"
   ]
  },
  {
   "cell_type": "code",
   "execution_count": 14,
   "id": "57eef34f",
   "metadata": {},
   "outputs": [
    {
     "data": {
      "image/png": "[encoded data removed]",
      "text/plain": [
       "<Figure size 432x288 with 1 Axes>"
      ]
     },
     "metadata": {},
     "output_type": "display_data"
    }
   ],
   "source": [
    "# Plot figure \n",
    "sns.set_theme(style=\"whitegrid\")\n",
    "\n",
    "ax = sns.pointplot(x=\"Subject\", y=\"Accuracy\", hue=\"Model\",\n",
    "                 data=df, ci=None)\n",
    "\n",
    "ax = sns.lineplot(x=\"Subject\", y=\"Accuracy\", hue=\"Model\",\n",
    "                 data=df, ci='sd', legend=False)\n",
    "\n",
    "ax.set_title(\"Task classification\")\n",
    "ax.set_ylim(0.90, 1)\n",
    "\n",
    "ax.figure.savefig('../figures/fig5.png')"
   ]
  },
  {
   "cell_type": "markdown",
   "id": "107fd81a",
   "metadata": {},
   "source": [
    "## One contrast task classification - Table 4 and Figure 6"
   ]
  },
  {
   "cell_type": "code",
   "execution_count": 15,
   "id": "534ccb19",
   "metadata": {},
   "outputs": [
    {
     "name": "stdout",
     "output_type": "stream",
     "text": [
      "Performance already computed.\n"
     ]
    }
   ],
   "source": [
    "if not os.path.exists('../figures/test_hcp_one_contrast_task_sample_size.csv'):\n",
    "    print('Calculating performance...')\n",
    "    accuracies = []\n",
    "    f1_list = []\n",
    "    prec_list = []\n",
    "    rec_list = []\n",
    "    model_list = []\n",
    "    n_list=[]\n",
    "\n",
    "    lr = '1e-04'\n",
    "\n",
    "    for n in ['50','100', '200', '500', 'global']:\n",
    "        train_subset ='small_hcp_global_dataset_' + n\n",
    "        test_subset = 'small_hcp_global_dataset_' + n\n",
    "\n",
    "        if n =='global':\n",
    "            train_subset = 'small_hcp_global_dataset'\n",
    "            test_subset ='small_hcp_global_dataset'\n",
    "\n",
    "        train_id_file = opj(data_dir, f'train_small_hcp_global_dataset.txt')\n",
    "        test_id_file = opj(data_dir, f'test_small_hcp_global_dataset.txt')\n",
    "        label_file = opj(data_dir, f'small_hcp_global_dataset_labels.csv')\n",
    "        label_col = 'task'\n",
    "        label_filelist = pd.read_csv(opj('../data/preprocessed/HCP_dataset', \n",
    "                                     f'{test_subset}_labels.csv'))\n",
    "        label_list = sorted(np.unique(label_filelist[label_col]))\n",
    "\n",
    "        train_set = datasets.ClassifDataset(opj(data_dir, preprocess_type), train_id_file, label_file, label_col,\n",
    "                                           label_list)\n",
    "        test_set = datasets.ClassifDataset(opj(data_dir, preprocess_type), test_id_file, label_file, label_col,\n",
    "                                          label_list)\n",
    "\n",
    "        model = 'model_cnn_4layers_retrain_no'\n",
    "        epochs = 500\n",
    "        batch=64\n",
    "        model_list.append('Default algorithm')\n",
    "        parameter_file = opj(out_dir, f'{train_subset}_maps_classification_{label_col}' + \\\n",
    "                             f'_{model}_{preprocess_type}_epochs_{epochs}_batch_size_{batch}_lr_{lr}', \n",
    "                                     f'model_final.pt')\n",
    "\n",
    "        acc, f1, prec, rec, acc_class = cnn_tester.tester(test_set, parameter_file)\n",
    "\n",
    "        accuracies.append(acc)\n",
    "        f1_list.append(f1)\n",
    "        prec_list.append(prec)\n",
    "        rec_list.append(rec)\n",
    "        n_list.append(n)\n",
    "\n",
    "        model = 'model_cnn_5layers_retrain_all'\n",
    "        epochs = 200\n",
    "        batch=64\n",
    "        model_list.append('Pre-trained CAE')\n",
    "        parameter_file = opj(out_dir, \n",
    "                    f'{train_subset}_maps_classification_{label_col}' + \\\n",
    "                    f'_{model}_{preprocess_type}_epochs_{epochs}_batch_size_{batch}_lr_{lr}', \n",
    "                                     f'model_final.pt')\n",
    "\n",
    "        acc, f1, prec, rec, acc_class = cnn_tester.tester(test_set, parameter_file)\n",
    "\n",
    "        accuracies.append(acc)\n",
    "        f1_list.append(f1)\n",
    "        prec_list.append(prec)\n",
    "        rec_list.append(rec)\n",
    "        n_list.append(n)\n",
    "\n",
    "    df = pd.DataFrame()\n",
    "\n",
    "    df['Accuracy']=accuracies\n",
    "    df['F1']=f1_list\n",
    "    df['Model']=model_list\n",
    "    df['Subject']=n_list\n",
    "    df['Precision']=prec_list\n",
    "    df['Recall']=rec_list\n",
    "\n",
    "    df.to_csv('../figures/test_hcp_one_contrast_task_sample_size.csv')\n",
    "    \n",
    "else:\n",
    "    print('Performance already computed.')"
   ]
  },
  {
   "cell_type": "code",
   "execution_count": 16,
   "id": "d1e07693",
   "metadata": {},
   "outputs": [],
   "source": [
    "df = pd.read_csv('../figures/test_hcp_one_contrast_task_sample_size.csv')"
   ]
  },
  {
   "cell_type": "code",
   "execution_count": 17,
   "id": "a85d7335",
   "metadata": {},
   "outputs": [
    {
     "name": "stdout",
     "output_type": "stream",
     "text": [
      "Sample 50\n",
      "Default algorithm\n",
      "97.2\n",
      "Pre-trained CAE\n",
      "98.1\n",
      "Sample 100\n",
      "Default algorithm\n",
      "98.6\n",
      "Pre-trained CAE\n",
      "98.7\n",
      "Sample 200\n",
      "Default algorithm\n",
      "99.1\n",
      "Pre-trained CAE\n",
      "99.1\n",
      "Sample 500\n",
      "Default algorithm\n",
      "99.3\n",
      "Pre-trained CAE\n",
      "99.3\n",
      "Sample global\n",
      "Default algorithm\n",
      "99.1\n",
      "Pre-trained CAE\n",
      "99.3\n"
     ]
    }
   ],
   "source": [
    "# Mean values and standard errors\n",
    "for sub in ['50', '100', '200', '500', 'global']:\n",
    "    print('Sample', sub)\n",
    "    print('Default algorithm')\n",
    "    print(str(round(np.mean(df['Accuracy'][df['Model']=='Default algorithm'][df['Subject']==sub]) * 100, 1)))\n",
    "    \n",
    "    print('Pre-trained CAE')\n",
    "    print(str(round(np.mean(df['Accuracy'][df['Model']=='Pre-trained CAE'][df['Subject']==sub]) * 100, 1)))"
   ]
  },
  {
   "cell_type": "code",
   "execution_count": 18,
   "id": "a6ba539d",
   "metadata": {},
   "outputs": [
    {
     "data": {
      "image/png": "[encoded data removed]",
      "text/plain": [
       "<Figure size 432x288 with 1 Axes>"
      ]
     },
     "metadata": {},
     "output_type": "display_data"
    }
   ],
   "source": [
    "# Plot figure\n",
    "sns.set_theme(style=\"whitegrid\")\n",
    "\n",
    "ax = sns.pointplot(x=\"Subject\", y=\"Accuracy\", hue=\"Model\",\n",
    "                 data=df, ci=None)\n",
    "\n",
    "ax = sns.lineplot(x=\"Subject\", y=\"Accuracy\", hue=\"Model\",\n",
    "                 data=df, ci='sd', legend=False)\n",
    "\n",
    "ax.set_title(\"One contrast task classification\")\n",
    "ax.set_ylim(0.90, 1.00)\n",
    "\n",
    "ax.figure.savefig('../figures/fig6.png')"
   ]
  }
 ],
 "metadata": {
  "kernelspec": {
   "display_name": "Python 3 (ipykernel)",
   "language": "python",
   "name": "python3"
  },
  "language_info": {
   "codemirror_mode": {
    "name": "ipython",
    "version": 3
   },
   "file_extension": ".py",
   "mimetype": "text/x-python",
   "name": "python",
   "nbconvert_exporter": "python",
   "pygments_lexer": "ipython3",
   "version": "3.9.7"
  }
 },
 "nbformat": 4,
 "nbformat_minor": 5
}
