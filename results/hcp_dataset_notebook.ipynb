{
 "cells": [
  {
   "cell_type": "code",
   "execution_count": 1,
   "id": "91c59866",
   "metadata": {},
   "outputs": [],
   "source": [
    "from lib import cnn_tester\n",
    "import sys\n",
    "sys.path.insert(0, '../src')\n",
    "from lib import datasets\n",
    "\n",
    "from os.path import join as opj\n",
    "import pandas as pd\n",
    "import numpy as np\n",
    "import torch\n",
    "import os\n",
    "import matplotlib.pyplot as plt\n",
    "from scipy import stats\n",
    "from scipy.stats import shapiro\n",
    "\n",
    "import seaborn as sns\n",
    "\n",
    "# import warnings filter\n",
    "from warnings import simplefilter\n",
    "# ignore all future warnings\n",
    "simplefilter(action='ignore', category=FutureWarning)\n",
    "simplefilter(action='ignore', category=UserWarning)\n",
    "simplefilter(action='ignore', category=RuntimeWarning)"
   ]
  },
  {
   "cell_type": "markdown",
   "id": "87364270",
   "metadata": {},
   "source": [
    "# Hyperparameters validation - Computation of performance"
   ]
  },
  {
   "cell_type": "code",
   "execution_count": 2,
   "id": "f65c2898",
   "metadata": {},
   "outputs": [],
   "source": [
    "# Directories\n",
    "data_dir = '../data/preprocessed/HCP_dataset'\n",
    "out_dir = '../data/derived/HCP_dataset'"
   ]
  },
  {
   "cell_type": "code",
   "execution_count": 3,
   "id": "487d54ba",
   "metadata": {},
   "outputs": [],
   "source": [
    "# Specific setup\n",
    "preprocess_type = 'resampled_masked_normalized'\n",
    "\n",
    "# Training setup \n",
    "train_subset ='hcp_dataset'\n",
    "lr = '1e-04'\n",
    "model_to_test = ['model_cnn_4layers', 'model_cnn_5layers']\n",
    "init_to_test = ['retrain_no', 'retrain_all']\n",
    "batch_to_test = [32, 64]\n",
    "epochs_to_test = ['epochs_200', 'final']"
   ]
  },
  {
   "cell_type": "code",
   "execution_count": 4,
   "id": "61736d23",
   "metadata": {},
   "outputs": [
    {
     "name": "stdout",
     "output_type": "stream",
     "text": [
      "Validation metrics already computed.\n"
     ]
    }
   ],
   "source": [
    "# Supplementary Figure S2 - Performance on classification of global HCP dataset of models \n",
    "# with different hyperparameters. \n",
    "\n",
    "accuracies = []\n",
    "f1_list = []\n",
    "model_list = []\n",
    "arch_list = []\n",
    "epochs_list = []\n",
    "batch_list = []\n",
    "prec_list = []\n",
    "rec_list = []\n",
    "\n",
    "if not os.path.exists('../figures/validation_model_hcp.csv'):\n",
    "    print('Calculating validation performance...')\n",
    "    for model in model_to_test:\n",
    "        for init in init_to_test:\n",
    "            for epochs in epochs_to_test:\n",
    "                for batch in batch_to_test:\n",
    "                    for i in range(5):\n",
    "                        model_list.append(init)\n",
    "                        arch_list.append(model)\n",
    "                        batch_list.append(batch)\n",
    "                        epochs_list.append(epochs)\n",
    "                        \n",
    "                        test_id_file = opj(data_dir, f'test_hp_hcp_dataset_fold_{i}.txt')\n",
    "                        label_file = opj(data_dir, f'hcp_dataset_labels.csv')\n",
    "                        label_col = 'contrast'\n",
    "                        label_filelist = pd.read_csv(opj('../data/preprocessed/HCP_dataset', \n",
    "                                                     f'hcp_dataset_labels.csv'))\n",
    "\n",
    "                        label_list = sorted(np.unique(label_filelist['contrast']))\n",
    "\n",
    "                        test_set = datasets.ClassifDataset(opj(data_dir, preprocess_type), test_id_file, label_file, label_col,\n",
    "                                                          label_list)\n",
    "                        # Model to test\n",
    "                        parameter_file = opj(out_dir, f\"{train_subset}_maps_classification_contrast_{model}_\" + \\\n",
    "                                f\"valid_hp_{init}_{preprocess_type}_epochs_500_batch_size_{batch}_lr_{lr}\", \n",
    "                                             f\"model_{epochs}_fold_{i}.pt\")\n",
    "\n",
    "                        acc, f1, prec, rec, acc_class = cnn_tester.tester(test_set, parameter_file) # Compute results\n",
    "\n",
    "                        accuracies.append(acc)\n",
    "                        f1_list.append(f1)\n",
    "                        prec_list.append(prec)\n",
    "                        rec_list.append(rec)\n",
    "                    \n",
    "    # Creation of dataframe with results\n",
    "    init_list = ['Default algorithm' if i == 'retrain_no' else 'Pre-trained CAE' for i in model_list]\n",
    "\n",
    "    arch_list = ['5 layers' if i == 'model_cnn_5layers' else '4 layers' for i in arch_list]\n",
    "\n",
    "    df = pd.DataFrame()\n",
    "    df['Accuracy']=accuracies\n",
    "    df['F1']=f1_list\n",
    "    df['Initialization']=init_list\n",
    "    df['Batch']=batch_list\n",
    "    df['Epochs']=epochs_list\n",
    "    df['Architecture']=arch_list\n",
    "    df['Precision']=prec_list\n",
    "    df['Recall']=rec_list\n",
    "\n",
    "    df.to_csv('../figures/validation_model_hcp.csv') \n",
    "    \n",
    "else: \n",
    "    print('Validation metrics already computed.')"
   ]
  },
  {
   "cell_type": "code",
   "execution_count": 5,
   "id": "a13ed3d0",
   "metadata": {},
   "outputs": [],
   "source": [
    "# DF with mean value per set of hyperparameters (average across folds)\n",
    "df = pd.read_csv('../figures/validation_model_hcp.csv') \n",
    "\n",
    "df_mean = pd.DataFrame(columns=['Initialization', 'Batch', 'Epochs', 'Architecture','Accuracy', 'F1'])\n",
    "for init in ['Default algorithm', 'Pre-trained CAE']:\n",
    "    for model in ['4 layers', '5 layers']:\n",
    "        for batch in batch_to_test:\n",
    "            for epochs in epochs_to_test:\n",
    "                df_mean = df_mean.append({'Initialization':init, 'Batch':batch, 'Epochs':epochs, 'Architecture':model, \n",
    "                          'Accuracy': np.mean(df['Accuracy'][df['Architecture']==model][df['Initialization']==init][df['Epochs']==epochs][df['Batch']==batch]), \n",
    "                          'F1': np.mean(df['F1'][df['Architecture']==model][df['Initialization']==init][df['Epochs']==epochs][df['Batch']==batch])}, \n",
    "                         ignore_index=True)"
   ]
  },
  {
   "cell_type": "markdown",
   "id": "e11c2ec3",
   "metadata": {},
   "source": [
    "# Hyperparameter validation - Exploration of results"
   ]
  },
  {
   "cell_type": "markdown",
   "id": "3e05e964",
   "metadata": {},
   "source": [
    "### Table 3 - Hyperparameters chosen for each dataset and corresponding performance of the classifier on the validation set of the dataset \n",
    "\n",
    "Here, we computed the results of Table 3 for HCP dataset."
   ]
  },
  {
   "cell_type": "code",
   "execution_count": 6,
   "id": "ef1c8384",
   "metadata": {
    "scrolled": true
   },
   "outputs": [
    {
     "data": {
      "text/html": [
       "<div>\n",
       "<style scoped>\n",
       "    .dataframe tbody tr th:only-of-type {\n",
       "        vertical-align: middle;\n",
       "    }\n",
       "\n",
       "    .dataframe tbody tr th {\n",
       "        vertical-align: top;\n",
       "    }\n",
       "\n",
       "    .dataframe thead th {\n",
       "        text-align: right;\n",
       "    }\n",
       "</style>\n",
       "<table border=\"1\" class=\"dataframe\">\n",
       "  <thead>\n",
       "    <tr style=\"text-align: right;\">\n",
       "      <th></th>\n",
       "      <th>Initialization</th>\n",
       "      <th>Batch</th>\n",
       "      <th>Epochs</th>\n",
       "      <th>Architecture</th>\n",
       "      <th>Accuracy</th>\n",
       "      <th>F1</th>\n",
       "    </tr>\n",
       "  </thead>\n",
       "  <tbody>\n",
       "    <tr>\n",
       "      <th>1</th>\n",
       "      <td>Default algorithm</td>\n",
       "      <td>32</td>\n",
       "      <td>final</td>\n",
       "      <td>4 layers</td>\n",
       "      <td>0.907933</td>\n",
       "      <td>0.907703</td>\n",
       "    </tr>\n",
       "  </tbody>\n",
       "</table>\n",
       "</div>"
      ],
      "text/plain": [
       "      Initialization Batch Epochs Architecture  Accuracy        F1\n",
       "1  Default algorithm    32  final     4 layers  0.907933  0.907703"
      ]
     },
     "execution_count": 6,
     "metadata": {},
     "output_type": "execute_result"
    }
   ],
   "source": [
    "df_mean[df_mean['Initialization']=='Default algorithm'].nlargest(1, ['Accuracy', 'F1'])"
   ]
  },
  {
   "cell_type": "code",
   "execution_count": 7,
   "id": "8bd2d50d",
   "metadata": {},
   "outputs": [
    {
     "data": {
      "text/html": [
       "<div>\n",
       "<style scoped>\n",
       "    .dataframe tbody tr th:only-of-type {\n",
       "        vertical-align: middle;\n",
       "    }\n",
       "\n",
       "    .dataframe tbody tr th {\n",
       "        vertical-align: top;\n",
       "    }\n",
       "\n",
       "    .dataframe thead th {\n",
       "        text-align: right;\n",
       "    }\n",
       "</style>\n",
       "<table border=\"1\" class=\"dataframe\">\n",
       "  <thead>\n",
       "    <tr style=\"text-align: right;\">\n",
       "      <th></th>\n",
       "      <th>Initialization</th>\n",
       "      <th>Batch</th>\n",
       "      <th>Epochs</th>\n",
       "      <th>Architecture</th>\n",
       "      <th>Accuracy</th>\n",
       "      <th>F1</th>\n",
       "    </tr>\n",
       "  </thead>\n",
       "  <tbody>\n",
       "    <tr>\n",
       "      <th>14</th>\n",
       "      <td>Pre-trained CAE</td>\n",
       "      <td>64</td>\n",
       "      <td>epochs_200</td>\n",
       "      <td>5 layers</td>\n",
       "      <td>0.91842</td>\n",
       "      <td>0.918386</td>\n",
       "    </tr>\n",
       "  </tbody>\n",
       "</table>\n",
       "</div>"
      ],
      "text/plain": [
       "     Initialization Batch      Epochs Architecture  Accuracy        F1\n",
       "14  Pre-trained CAE    64  epochs_200     5 layers   0.91842  0.918386"
      ]
     },
     "execution_count": 7,
     "metadata": {},
     "output_type": "execute_result"
    }
   ],
   "source": [
    "df_mean[df_mean['Initialization']=='Pre-trained CAE'].nlargest(1, ['Accuracy', 'F1'])"
   ]
  },
  {
   "cell_type": "markdown",
   "id": "10d6b931",
   "metadata": {},
   "source": [
    "# Test models with cross-validation"
   ]
  },
  {
   "cell_type": "markdown",
   "id": "9236b2b8",
   "metadata": {},
   "source": [
    "## Contrast classification - Table 4 and Figure 5"
   ]
  },
  {
   "cell_type": "code",
   "execution_count": 8,
   "id": "0340c936",
   "metadata": {},
   "outputs": [
    {
     "name": "stdout",
     "output_type": "stream",
     "text": [
      "Performance already computed.\n"
     ]
    }
   ],
   "source": [
    "# Table 4 - Classification performance on HCP datasets of models initialized with default algorithm vs \n",
    "# with the weights of a pre-trained CAE. \n",
    "# PART 1 - CLASSIFICATION OF CONTRASTS \n",
    "if not os.path.exists('../figures/test_hcp_contrast_sample_size.csv'):\n",
    "    print('Calculating performance...')\n",
    "    accuracies = []\n",
    "    f1_list = []\n",
    "    prec_list = []\n",
    "    rec_list = []\n",
    "    prec_list = []\n",
    "    model_list = []\n",
    "    n_list=[]\n",
    "\n",
    "    lr = '1e-04'\n",
    "\n",
    "    for n in ['50', '100', '200', 'global']: # Iterates on all sample sizes \n",
    "        # Name of the training set used \n",
    "        train_subset ='hcp_dataset_' + n\n",
    "        test_subset = 'hcp_dataset_' + n\n",
    "\n",
    "        if n =='global':\n",
    "            train_subset = 'hcp_dataset'\n",
    "            test_subset ='hcp_dataset'\n",
    "            \n",
    "        for i in range(5):\n",
    "            # Cross-validation - Each model was tested on the corresponding testing fold of the GLOBAL HCP dataset\n",
    "            test_id_file = opj(data_dir, f'test_perf_hcp_dataset_fold_{i}.txt')\n",
    "            label_file = opj(data_dir, f'hcp_dataset_labels.csv')\n",
    "            label_col = 'contrast'\n",
    "            label_filelist = pd.read_csv(opj('../data/preprocessed/HCP_dataset', \n",
    "                                         f'hcp_dataset_labels.csv'))\n",
    "\n",
    "            label_list = sorted(np.unique(label_filelist['contrast']))\n",
    "\n",
    "            test_set = datasets.ClassifDataset(opj(data_dir, preprocess_type), test_id_file, label_file, label_col,\n",
    "                                              label_list)\n",
    "\n",
    "            # Compute results performance for DEFAULT ALGORITHM\n",
    "            model = 'model_cnn_4layers_valid_perf_retrain_no'\n",
    "            epochs = 500\n",
    "            batch=32\n",
    "            model_list.append('Default algorithm')\n",
    "            parameter_file = opj(out_dir, \n",
    "        f'{train_subset}_maps_classification_contrast_{model}_{preprocess_type}_epochs_{epochs}_batch_size_{batch}_lr_{lr}', \n",
    "                                         f'model_fold_{i}.pt')\n",
    "\n",
    "            acc, f1, prec, rec, acc_class = cnn_tester.tester(test_set, parameter_file)\n",
    "\n",
    "            accuracies.append(acc)\n",
    "            f1_list.append(f1)\n",
    "            n_list.append(n)\n",
    "            prec_list.append(prec)\n",
    "            rec_list.append(rec)\n",
    "\n",
    "            # Compute results performance for PRE-TRAINED CAE \n",
    "            model = 'model_cnn_5layers_valid_perf_retrain_all'\n",
    "            epochs = 200\n",
    "            batch=64\n",
    "            model_list.append('Pre-trained CAE')\n",
    "\n",
    "            parameter_file = opj(out_dir, \n",
    "                f'{train_subset}_maps_classification_{label_col}_' + \\\n",
    "                                 f'{model}_{preprocess_type}_epochs_{epochs}_batch_size_{batch}_lr_{lr}', \n",
    "                                         f'model_final_fold_{i}.pt')\n",
    "\n",
    "            acc, f1, prec, rec, acc_class = cnn_tester.tester(test_set, parameter_file)\n",
    "\n",
    "            accuracies.append(acc)\n",
    "            f1_list.append(f1)\n",
    "            n_list.append(n)\n",
    "            prec_list.append(prec)\n",
    "            rec_list.append(rec)\n",
    "            \n",
    "    df = pd.DataFrame()\n",
    "    df['Accuracy']=accuracies\n",
    "    df['F1']=f1_list\n",
    "    df['Model']=model_list\n",
    "    df['Precision']=prec_list\n",
    "    df['Recall']= rec_list\n",
    "    df['Subject']=n_list\n",
    "\n",
    "    df.to_csv('../figures/test_hcp_contrast_sample_size.csv') # Global dataframe \n",
    "else:\n",
    "    print('Performance already computed.')"
   ]
  },
  {
   "cell_type": "code",
   "execution_count": 9,
   "id": "c5e3c2a8",
   "metadata": {},
   "outputs": [],
   "source": [
    "df = pd.read_csv('../figures/test_hcp_contrast_sample_size.csv')"
   ]
  },
  {
   "cell_type": "code",
   "execution_count": 10,
   "id": "ed4cbb20",
   "metadata": {},
   "outputs": [
    {
     "name": "stdout",
     "output_type": "stream",
     "text": [
      "Sample 50\n",
      "Default algorithm\n",
      "83.6\n",
      "Pre-trained CAE\n",
      "87.0\n",
      "Sample 100\n",
      "Default algorithm\n",
      "86.8\n",
      "Pre-trained CAE\n",
      "89.9\n",
      "Sample 200\n",
      "Default algorithm\n",
      "88.6\n",
      "Pre-trained CAE\n",
      "90.2\n",
      "Sample global\n",
      "Default algorithm\n",
      "90.9\n",
      "Pre-trained CAE\n",
      "92.4\n"
     ]
    }
   ],
   "source": [
    "# Mean values\n",
    "for sub in ['50', '100', '200', 'global']:\n",
    "    print('Sample', sub)\n",
    "    print('Default algorithm')\n",
    "    print(str(round(np.mean(df['Accuracy'][df['Model']=='Default algorithm'][df['Subject']==sub]) * 100, 1)))\n",
    "    \n",
    "    print('Pre-trained CAE')\n",
    "    print(str(round(np.mean(df['Accuracy'][df['Model']=='Pre-trained CAE'][df['Subject']==sub]) * 100, 1)))"
   ]
  },
  {
   "cell_type": "code",
   "execution_count": 11,
   "id": "5695c3f1",
   "metadata": {},
   "outputs": [
    {
     "name": "stdout",
     "output_type": "stream",
     "text": [
      "Sample 50\n",
      "Default algorithm\n",
      "0.61\n",
      "Pre-trained CAE\n",
      "0.51\n",
      "Sample 100\n",
      "Default algorithm\n",
      "0.69\n",
      "Pre-trained CAE\n",
      "0.34\n",
      "Sample 200\n",
      "Default algorithm\n",
      "0.84\n",
      "Pre-trained CAE\n",
      "1.46\n",
      "Sample global\n",
      "Default algorithm\n",
      "0.38\n",
      "Pre-trained CAE\n",
      "0.44\n"
     ]
    }
   ],
   "source": [
    "#Standard errors\n",
    "for sub in ['50', '100', '200', 'global']:\n",
    "    print('Sample', sub)\n",
    "    print('Default algorithm')\n",
    "    print(str(round(np.std(df['Accuracy'][df['Model']=='Default algorithm'][df['Subject']==sub])/np.sqrt(5) * 100, 2)))\n",
    "    \n",
    "    print('Pre-trained CAE')\n",
    "    print(str(round(np.std(df['Accuracy'][df['Model']=='Pre-trained CAE'][df['Subject']==sub])/np.sqrt(5) * 100, 2)))"
   ]
  },
  {
   "cell_type": "code",
   "execution_count": 12,
   "id": "0afe9d5a",
   "metadata": {},
   "outputs": [
    {
     "name": "stdout",
     "output_type": "stream",
     "text": [
      "Sample 50\n",
      "T-stat -11.52\n",
      "p-value 0.0003\n",
      "Sample 100\n",
      "T-stat -4.77\n",
      "p-value 0.0088\n",
      "Sample 200\n",
      "T-stat -1.42\n",
      "p-value 0.2291\n",
      "Sample global\n",
      "T-stat -4.74\n",
      "p-value 0.0091\n"
     ]
    }
   ],
   "source": [
    "#T-test\n",
    "for sub in ['50', '100', '200', 'global']:\n",
    "    print('Sample', sub)\n",
    "    print('T-stat', str(round(stats.ttest_rel(df['Accuracy'][df['Model']=='Default algorithm'][df['Subject']==sub].tolist(), \n",
    "                                   df['Accuracy'][df['Model']=='Pre-trained CAE'][df['Subject']==sub].tolist())[0], 2)))\n",
    "    print('p-value', str(round(stats.ttest_rel(df['Accuracy'][df['Model']=='Default algorithm'][df['Subject']==sub], \n",
    "                                   df['Accuracy'][df['Model']=='Pre-trained CAE'][df['Subject']==sub])[1], 4)))"
   ]
  },
  {
   "cell_type": "code",
   "execution_count": 13,
   "id": "34c62a3c",
   "metadata": {},
   "outputs": [
    {
     "data": {
      "image/png": "[encoded data removed]",
      "text/plain": [
       "<Figure size 432x288 with 1 Axes>"
      ]
     },
     "metadata": {},
     "output_type": "display_data"
    }
   ],
   "source": [
    "# Plot figure \n",
    "sns.set_theme(style=\"whitegrid\")\n",
    "\n",
    "ax = sns.pointplot(x=\"Subject\", y=\"F1\", hue=\"Model\",\n",
    "                 data=df, ci=None)\n",
    "\n",
    "ax = sns.lineplot(x=\"Subject\", y=\"F1\", hue=\"Model\",\n",
    "                 data=df, ci=68, legend=False)\n",
    "\n",
    "ax.set_title(\"Contrast classification\")\n",
    "ax.set_ylim(0.70, 1)\n",
    "\n",
    "ax.figure.savefig('../figures/fig5.png')"
   ]
  },
  {
   "cell_type": "markdown",
   "id": "aa886338",
   "metadata": {},
   "source": [
    "## Task classification - Table 4 and Figure 6"
   ]
  },
  {
   "cell_type": "code",
   "execution_count": 14,
   "id": "60f92cdc",
   "metadata": {},
   "outputs": [
    {
     "name": "stdout",
     "output_type": "stream",
     "text": [
      "Performance already computed.\n"
     ]
    }
   ],
   "source": [
    "# Table 4 - Classification performance on HCP datasets of models initialized with default algorithm vs \n",
    "# with the weights of a pre-trained CAE. \n",
    "# PART 1 - CLASSIFICATION OF CONTRASTS \n",
    "if not os.path.exists('../figures/test_hcp_task_sample_size.csv'):\n",
    "    print('Calculating performance...')\n",
    "    accuracies = []\n",
    "    f1_list = []\n",
    "    prec_list = []\n",
    "    rec_list = []\n",
    "    prec_list = []\n",
    "    model_list = []\n",
    "    n_list=[]\n",
    "\n",
    "    lr = '1e-04'\n",
    "\n",
    "    for n in ['50', '100', '200', 'global']: # Iterates on all sample sizes \n",
    "        # Name of the training set used \n",
    "        train_subset ='hcp_dataset_' + n\n",
    "        test_subset = 'hcp_dataset_' + n\n",
    "\n",
    "        if n =='global':\n",
    "            train_subset = 'hcp_dataset'\n",
    "            test_subset ='hcp_dataset'\n",
    "            \n",
    "        for i in range(5):\n",
    "            # Cross-validation - Each model was tested on the corresponding testing fold of the GLOBAL HCP dataset\n",
    "            test_id_file = opj(data_dir, f'test_perf_hcp_dataset_fold_{i}.txt')\n",
    "            label_file = opj(data_dir, f'hcp_dataset_labels.csv')\n",
    "            label_col = 'task'\n",
    "            label_filelist = pd.read_csv(opj('../data/preprocessed/HCP_dataset', \n",
    "                                         f'hcp_dataset_labels.csv'))\n",
    "\n",
    "            label_list = sorted(np.unique(label_filelist['task']))\n",
    "\n",
    "            test_set = datasets.ClassifDataset(opj(data_dir, preprocess_type), test_id_file, label_file, label_col,\n",
    "                                              label_list)\n",
    "\n",
    "            # Compute results performance for DEFAULT ALGORITHM\n",
    "            model = 'model_cnn_4layers_valid_perf_retrain_no'\n",
    "            epochs = 500\n",
    "            batch=32\n",
    "            model_list.append('Default algorithm')\n",
    "            parameter_file = opj(out_dir, \n",
    "        f'{train_subset}_maps_classification_task_{model}_{preprocess_type}_epochs_{epochs}_batch_size_{batch}_lr_{lr}', \n",
    "                                         f'model_fold_{i}.pt')\n",
    "\n",
    "            acc, f1, prec, rec, acc_class = cnn_tester.tester(test_set, parameter_file)\n",
    "\n",
    "            accuracies.append(acc)\n",
    "            f1_list.append(f1)\n",
    "            n_list.append(n)\n",
    "            prec_list.append(prec)\n",
    "            rec_list.append(rec)\n",
    "\n",
    "            # Compute results performance for PRE-TRAINED CAE \n",
    "            model = 'model_cnn_5layers_valid_perf_retrain_all'\n",
    "            epochs = 200\n",
    "            batch=64\n",
    "            model_list.append('Pre-trained CAE')\n",
    "\n",
    "            parameter_file = opj(out_dir, \n",
    "                f'{train_subset}_maps_classification_{label_col}_' + \\\n",
    "                                 f'{model}_{preprocess_type}_epochs_{epochs}_batch_size_{batch}_lr_{lr}', \n",
    "                                         f'model_final_fold_{i}.pt')\n",
    "\n",
    "            acc, f1, prec, rec, acc_class = cnn_tester.tester(test_set, parameter_file)\n",
    "\n",
    "            accuracies.append(acc)\n",
    "            f1_list.append(f1)\n",
    "            n_list.append(n)\n",
    "            prec_list.append(prec)\n",
    "            rec_list.append(rec)\n",
    "            \n",
    "    df = pd.DataFrame()\n",
    "    df['Accuracy']=accuracies\n",
    "    df['F1']=f1_list\n",
    "    df['Model']=model_list\n",
    "    df['Precision']=prec_list\n",
    "    df['Recall']= rec_list\n",
    "    df['Subject']=n_list\n",
    "\n",
    "    df.to_csv('../figures/test_hcp_task_sample_size.csv') # Global dataframe \n",
    "else:\n",
    "    print('Performance already computed.')"
   ]
  },
  {
   "cell_type": "code",
   "execution_count": 15,
   "id": "a65fd346",
   "metadata": {},
   "outputs": [],
   "source": [
    "df = pd.read_csv('../figures/test_hcp_task_sample_size.csv')"
   ]
  },
  {
   "cell_type": "code",
   "execution_count": 16,
   "id": "2e7d118b",
   "metadata": {},
   "outputs": [
    {
     "name": "stdout",
     "output_type": "stream",
     "text": [
      "Sample 50\n",
      "Default algorithm\n",
      "96.6\n",
      "Pre-trained CAE\n",
      "97.3\n",
      "Sample 100\n",
      "Default algorithm\n",
      "95.4\n",
      "Pre-trained CAE\n",
      "98.0\n",
      "Sample 200\n",
      "Default algorithm\n",
      "97.9\n",
      "Pre-trained CAE\n",
      "98.5\n",
      "Sample global\n",
      "Default algorithm\n",
      "98.4\n",
      "Pre-trained CAE\n",
      "99.0\n"
     ]
    }
   ],
   "source": [
    "# Mean values\n",
    "for sub in ['50', '100', '200', 'global']:\n",
    "    print('Sample', sub)\n",
    "    print('Default algorithm')\n",
    "    print(str(round(np.mean(df['Accuracy'][df['Model']=='Default algorithm'][df['Subject']==sub]) * 100, 1)))\n",
    "    \n",
    "    print('Pre-trained CAE')\n",
    "    print(str(round(np.mean(df['Accuracy'][df['Model']=='Pre-trained CAE'][df['Subject']==sub]) * 100, 1)))"
   ]
  },
  {
   "cell_type": "code",
   "execution_count": 17,
   "id": "d2a0a419",
   "metadata": {},
   "outputs": [
    {
     "name": "stdout",
     "output_type": "stream",
     "text": [
      "Sample 50\n",
      "Default algorithm\n",
      "0.47\n",
      "Pre-trained CAE\n",
      "0.43\n",
      "Sample 100\n",
      "Default algorithm\n",
      "1.49\n",
      "Pre-trained CAE\n",
      "0.25\n",
      "Sample 200\n",
      "Default algorithm\n",
      "0.44\n",
      "Pre-trained CAE\n",
      "0.16\n",
      "Sample global\n",
      "Default algorithm\n",
      "0.17\n",
      "Pre-trained CAE\n",
      "0.13\n"
     ]
    }
   ],
   "source": [
    "#Standard errors\n",
    "for sub in ['50', '100', '200', 'global']:\n",
    "    print('Sample', sub)\n",
    "    print('Default algorithm')\n",
    "    print(str(round(np.std(df['Accuracy'][df['Model']=='Default algorithm'][df['Subject']==sub])/np.sqrt(5) * 100, 2)))\n",
    "    \n",
    "    print('Pre-trained CAE')\n",
    "    print(str(round(np.std(df['Accuracy'][df['Model']=='Pre-trained CAE'][df['Subject']==sub])/np.sqrt(5) * 100, 2)))"
   ]
  },
  {
   "cell_type": "code",
   "execution_count": 18,
   "id": "a2fd3a6d",
   "metadata": {},
   "outputs": [
    {
     "name": "stdout",
     "output_type": "stream",
     "text": [
      "Sample 50\n",
      "T-stat -3.57\n",
      "P-value 0.0235\n",
      "Sample 100\n",
      "T-stat -1.4\n",
      "P-value 0.2349\n",
      "Sample 200\n",
      "T-stat -1.5\n",
      "P-value 0.2084\n",
      "Sample global\n",
      "T-stat -5.65\n",
      "P-value 0.0048\n"
     ]
    }
   ],
   "source": [
    "#T-test\n",
    "for sub in ['50', '100', '200', 'global']:\n",
    "    print('Sample', sub)\n",
    "    print('T-stat',str(round(stats.ttest_rel(df['Accuracy'][df['Model']=='Default algorithm'][df['Subject']==sub].tolist(), \n",
    "                                   df['Accuracy'][df['Model']=='Pre-trained CAE'][df['Subject']==sub].tolist())[0], 2)))\n",
    "    print('P-value', str(round(stats.ttest_rel(df['Accuracy'][df['Model']=='Default algorithm'][df['Subject']==sub], \n",
    "                                   df['Accuracy'][df['Model']=='Pre-trained CAE'][df['Subject']==sub])[1], 4)))"
   ]
  },
  {
   "cell_type": "code",
   "execution_count": 19,
   "id": "57eef34f",
   "metadata": {},
   "outputs": [
    {
     "data": {
      "image/png": "[encoded data removed]",
      "text/plain": [
       "<Figure size 432x288 with 1 Axes>"
      ]
     },
     "metadata": {},
     "output_type": "display_data"
    }
   ],
   "source": [
    "# Plot figure \n",
    "sns.set_theme(style=\"whitegrid\")\n",
    "\n",
    "ax = sns.pointplot(x=\"Subject\", y=\"Accuracy\", hue=\"Model\",\n",
    "                 data=df, ci=None)\n",
    "\n",
    "ax = sns.lineplot(x=\"Subject\", y=\"Accuracy\", hue=\"Model\",\n",
    "                 data=df, ci=68, legend=False)\n",
    "\n",
    "ax.set_title(\"Task classification\")\n",
    "ax.set_ylim(0.90, 1)\n",
    "\n",
    "ax.figure.savefig('../figures/fig6.png')"
   ]
  },
  {
   "cell_type": "markdown",
   "id": "107fd81a",
   "metadata": {},
   "source": [
    "## One contrast task classification - Table 4 and Figure 7"
   ]
  },
  {
   "cell_type": "code",
   "execution_count": 20,
   "id": "534ccb19",
   "metadata": {},
   "outputs": [
    {
     "name": "stdout",
     "output_type": "stream",
     "text": [
      "Performance already computed.\n"
     ]
    }
   ],
   "source": [
    "if not os.path.exists('../figures/test_hcp_one_contrast_task_sample_size.csv'):\n",
    "    print('Calculating performance...')\n",
    "    accuracies = []\n",
    "    f1_list = []\n",
    "    prec_list = []\n",
    "    rec_list = []\n",
    "    model_list = []\n",
    "    n_list=[]\n",
    "\n",
    "    lr = '1e-04'\n",
    "\n",
    "    for n in ['50', '100', '200', 'global']: # Iterates on all sample sizes \n",
    "        # Name of the training set used \n",
    "        train_subset ='small_hcp_dataset_' + n\n",
    "        test_subset = 'small_hcp_dataset_' + n\n",
    "\n",
    "        if n =='global':\n",
    "            train_subset = 'small_hcp_dataset'\n",
    "            test_subset ='small_hcp_dataset'\n",
    "            \n",
    "        for i in range(5):\n",
    "            # Cross-validation - Each model was tested on the corresponding testing fold of the GLOBAL HCP dataset\n",
    "            test_id_file = opj(data_dir, f'test_perf_small_hcp_dataset_fold_{i}.txt')\n",
    "            label_file = opj(data_dir, f'small_hcp_dataset_labels.csv')\n",
    "            label_col = 'task'\n",
    "            label_filelist = pd.read_csv(opj('../data/preprocessed/HCP_dataset', \n",
    "                                         f'small_hcp_dataset_labels.csv'))\n",
    "\n",
    "            label_list = sorted(np.unique(label_filelist['task']))\n",
    "\n",
    "            test_set = datasets.ClassifDataset(opj(data_dir, preprocess_type), test_id_file, label_file, label_col,\n",
    "                                              label_list)\n",
    "\n",
    "            # Compute results performance for DEFAULT ALGORITHM\n",
    "            model = 'model_cnn_4layers_valid_perf_retrain_no'\n",
    "            epochs = 500\n",
    "            batch=32\n",
    "            model_list.append('Default algorithm')\n",
    "            parameter_file = opj(out_dir, \n",
    "        f'{train_subset}_maps_classification_task_{model}_{preprocess_type}_epochs_{epochs}_batch_size_{batch}_lr_{lr}', \n",
    "                                         f'model_fold_{i}.pt')\n",
    "\n",
    "            acc, f1, prec, rec, acc_class = cnn_tester.tester(test_set, parameter_file)\n",
    "\n",
    "            accuracies.append(acc)\n",
    "            f1_list.append(f1)\n",
    "            n_list.append(n)\n",
    "            prec_list.append(prec)\n",
    "            rec_list.append(rec)\n",
    "\n",
    "            # Compute results performance for PRE-TRAINED CAE \n",
    "            model = 'model_cnn_5layers_valid_perf_retrain_all'\n",
    "            epochs = 200\n",
    "            batch=64\n",
    "            model_list.append('Pre-trained CAE')\n",
    "\n",
    "            parameter_file = opj(out_dir, \n",
    "                f'{train_subset}_maps_classification_{label_col}_' + \\\n",
    "                                 f'{model}_{preprocess_type}_epochs_{epochs}_batch_size_{batch}_lr_{lr}', \n",
    "                                         f'model_final_fold_{i}.pt')\n",
    "\n",
    "            acc, f1, prec, rec, acc_class = cnn_tester.tester(test_set, parameter_file)\n",
    "\n",
    "            accuracies.append(acc)\n",
    "            f1_list.append(f1)\n",
    "            n_list.append(n)\n",
    "            prec_list.append(prec)\n",
    "            rec_list.append(rec)\n",
    "            \n",
    "    df = pd.DataFrame()\n",
    "    df['Accuracy']=accuracies\n",
    "    df['F1']=f1_list\n",
    "    df['Model']=model_list\n",
    "    df['Precision']=prec_list\n",
    "    df['Recall']= rec_list\n",
    "    df['Subject']=n_list\n",
    "\n",
    "    df.to_csv('../figures/test_hcp_one_contrast_task_sample_size.csv') # Global dataframe \n",
    "else:\n",
    "    print('Performance already computed.')"
   ]
  },
  {
   "cell_type": "code",
   "execution_count": 21,
   "id": "d1e07693",
   "metadata": {},
   "outputs": [],
   "source": [
    "df = pd.read_csv('../figures/test_hcp_one_contrast_task_sample_size.csv')"
   ]
  },
  {
   "cell_type": "code",
   "execution_count": 22,
   "id": "a85d7335",
   "metadata": {},
   "outputs": [
    {
     "name": "stdout",
     "output_type": "stream",
     "text": [
      "Sample 50\n",
      "Default algorithm\n",
      "97.9\n",
      "Pre-trained CAE\n",
      "99.1\n",
      "Sample 100\n",
      "Default algorithm\n",
      "98.9\n",
      "Pre-trained CAE\n",
      "99.4\n",
      "Sample 200\n",
      "Default algorithm\n",
      "99.3\n",
      "Pre-trained CAE\n",
      "99.6\n",
      "Sample global\n",
      "Default algorithm\n",
      "99.4\n",
      "Pre-trained CAE\n",
      "99.6\n"
     ]
    }
   ],
   "source": [
    "# Mean values \n",
    "for sub in ['50', '100', '200', 'global']:\n",
    "    print('Sample', sub)\n",
    "    print('Default algorithm')\n",
    "    print(str(round(np.mean(df['Accuracy'][df['Model']=='Default algorithm'][df['Subject']==sub]) * 100, 1)))\n",
    "    \n",
    "    print('Pre-trained CAE')\n",
    "    print(str(round(np.mean(df['Accuracy'][df['Model']=='Pre-trained CAE'][df['Subject']==sub]) * 100, 1)))"
   ]
  },
  {
   "cell_type": "code",
   "execution_count": 23,
   "id": "bb19b764",
   "metadata": {},
   "outputs": [
    {
     "name": "stdout",
     "output_type": "stream",
     "text": [
      "Sample 50\n",
      "Default algorithm\n",
      "0.3\n",
      "Pre-trained CAE\n",
      "0.3\n",
      "Sample 100\n",
      "Default algorithm\n",
      "0.17\n",
      "Pre-trained CAE\n",
      "0.25\n",
      "Sample 200\n",
      "Default algorithm\n",
      "0.2\n",
      "Pre-trained CAE\n",
      "0.2\n",
      "Sample global\n",
      "Default algorithm\n",
      "0.2\n",
      "Pre-trained CAE\n",
      "0.14\n"
     ]
    }
   ],
   "source": [
    "#Standard errors\n",
    "for sub in ['50', '100', '200', 'global']:\n",
    "    print('Sample', sub)\n",
    "    print('Default algorithm')\n",
    "    print(str(round(np.std(df['Accuracy'][df['Model']=='Default algorithm'][df['Subject']==sub])/np.sqrt(5) * 100, 2)))\n",
    "    \n",
    "    print('Pre-trained CAE')\n",
    "    print(str(round(np.std(df['Accuracy'][df['Model']=='Pre-trained CAE'][df['Subject']==sub])/np.sqrt(5) * 100, 2)))"
   ]
  },
  {
   "cell_type": "code",
   "execution_count": 24,
   "id": "8c8e965e",
   "metadata": {},
   "outputs": [
    {
     "name": "stdout",
     "output_type": "stream",
     "text": [
      "Sample 50\n",
      "T-stat -4.17\n",
      "p-value 0.014\n",
      "Sample 100\n",
      "T-stat -3.32\n",
      "p-value 0.0294\n",
      "Sample 200\n",
      "T-stat -2.33\n",
      "p-value 0.08\n",
      "Sample global\n",
      "T-stat -2.06\n",
      "p-value 0.1085\n"
     ]
    }
   ],
   "source": [
    "#T-test\n",
    "for sub in ['50', '100', '200', 'global']:\n",
    "    print('Sample', sub)\n",
    "    print('T-stat', str(round(stats.ttest_rel(df['Accuracy'][df['Model']=='Default algorithm'][df['Subject']==sub].tolist(), \n",
    "                                   df['Accuracy'][df['Model']=='Pre-trained CAE'][df['Subject']==sub].tolist())[0], 2)))\n",
    "    print('p-value', str(round(stats.ttest_rel(df['Accuracy'][df['Model']=='Default algorithm'][df['Subject']==sub], \n",
    "                                   df['Accuracy'][df['Model']=='Pre-trained CAE'][df['Subject']==sub])[1], 4)))"
   ]
  },
  {
   "cell_type": "code",
   "execution_count": 25,
   "id": "a6ba539d",
   "metadata": {},
   "outputs": [
    {
     "data": {
      "image/png": "[encoded data removed]",
      "text/plain": [
       "<Figure size 432x288 with 1 Axes>"
      ]
     },
     "metadata": {},
     "output_type": "display_data"
    }
   ],
   "source": [
    "# Plot figure\n",
    "sns.set_theme(style=\"whitegrid\")\n",
    "\n",
    "ax = sns.pointplot(x=\"Subject\", y=\"Accuracy\", hue=\"Model\",\n",
    "                 data=df, ci=None)\n",
    "\n",
    "ax = sns.lineplot(x=\"Subject\", y=\"Accuracy\", hue=\"Model\",\n",
    "                 data=df, ci=68, legend=False)\n",
    "\n",
    "ax.set_title(\"One contrast task classification\")\n",
    "ax.set_ylim(0.90, 1.00)\n",
    "\n",
    "ax.figure.savefig('../figures/fig7.png')"
   ]
  },
  {
   "cell_type": "code",
   "execution_count": null,
   "id": "f10e4ccd",
   "metadata": {},
   "outputs": [],
   "source": []
  }
 ],
 "metadata": {
  "kernelspec": {
   "display_name": "Python 3 (ipykernel)",
   "language": "python",
   "name": "python3"
  },
  "language_info": {
   "codemirror_mode": {
    "name": "ipython",
    "version": 3
   },
   "file_extension": ".py",
   "mimetype": "text/x-python",
   "name": "python",
   "nbconvert_exporter": "python",
   "pygments_lexer": "ipython3",
   "version": "3.9.7"
  }
 },
 "nbformat": 4,
 "nbformat_minor": 5
}
