{
 "cells": [
  {
   "cell_type": "code",
   "execution_count": 1,
   "id": "2464ac2d",
   "metadata": {},
   "outputs": [],
   "source": [
    "from lib import cnn_tester\n",
    "import sys\n",
    "sys.path.insert(0, '../src')\n",
    "from lib import datasets\n",
    "\n",
    "from os.path import join as opj\n",
    "import pandas as pd\n",
    "import numpy as np\n",
    "import torch\n",
    "import os\n",
    "import matplotlib.pyplot as plt\n",
    "from scipy import stats\n",
    "import seaborn as sns"
   ]
  },
  {
   "cell_type": "markdown",
   "id": "55cf7f7b",
   "metadata": {},
   "source": [
    "# Hyperparameters validation - Computation of performance"
   ]
  },
  {
   "cell_type": "code",
   "execution_count": 2,
   "id": "a97d5824",
   "metadata": {},
   "outputs": [],
   "source": [
    "# Directories\n",
    "data_dir = '../data/preprocessed/BrainPedia_dataset'\n",
    "out_dir = '../data/derived/BrainPedia_dataset'"
   ]
  },
  {
   "cell_type": "code",
   "execution_count": 3,
   "id": "a2b8b872",
   "metadata": {},
   "outputs": [],
   "source": [
    "# Specific setup\n",
    "preprocess_type = 'resampled_masked_normalized'\n",
    "\n",
    "# Training setup \n",
    "train_subset ='bp_dataset'\n",
    "lr_to_test = ['1e-04']\n",
    "model_to_test = ['model_cnn_4layers', 'model_cnn_5layers']\n",
    "init_to_test = ['retrain_no', 'retrain_all']\n",
    "batch_to_test = [32, 64]\n",
    "epochs_to_test = ['epochs_200', 'epochs_500']"
   ]
  },
  {
   "cell_type": "code",
   "execution_count": 4,
   "id": "ae45649c",
   "metadata": {},
   "outputs": [
    {
     "name": "stdout",
     "output_type": "stream",
     "text": [
      "Performance already computed.\n"
     ]
    }
   ],
   "source": [
    "accuracies = []\n",
    "f1_list = []\n",
    "model_list = []\n",
    "arch_list = []\n",
    "epochs_list = []\n",
    "batch_list = []\n",
    "lr_list = []\n",
    "prec_list = []\n",
    "rec_list = []\n",
    "\n",
    "if not os.path.exists('../figures/validation_model_bp.csv'):\n",
    "    print('Calculating validation performance...')\n",
    "    for model in model_to_test:\n",
    "        for init in init_to_test:\n",
    "            for epochs in epochs_to_test:\n",
    "                for batch in batch_to_test:\n",
    "                    for lr in lr_to_test:\n",
    "                        for i in range(5):\n",
    "                            model_list.append(init)\n",
    "                            arch_list.append(model)\n",
    "                            batch_list.append(batch)\n",
    "                            epochs_list.append(epochs)\n",
    "                            lr_list.append(lr)\n",
    "                            test_id_file = opj(data_dir, f'test_hp_bp_dataset_fold_{i}.txt')\n",
    "                            label_file = opj(data_dir, f'bp_dataset_labels.csv')\n",
    "                            label_col = 'tags'\n",
    "                            label_filelist = pd.read_csv(opj('../data/preprocessed/BrainPedia_dataset', \n",
    "                                                         f'bp_dataset_labels.csv'))\n",
    "\n",
    "                            label_list = sorted(np.unique(label_filelist['tags']))\n",
    "\n",
    "                            test_set = datasets.ClassifDataset(opj(data_dir, preprocess_type), test_id_file, label_file, label_col,\n",
    "                                                              label_list)\n",
    "\n",
    "                            # Model to test\n",
    "                            parameter_file = opj(out_dir, f\"{train_subset}_maps_classification_tags_{model}_\" + \\\n",
    "                                    f\"valid_hp_{init}_{preprocess_type}_epochs_1000_batch_size_{batch}_lr_{lr}\", \n",
    "                                             f\"model_{epochs}_fold_{i}.pt\")\n",
    "\n",
    "                            acc, f1, prec, rec, acc_class = cnn_tester.tester(test_set, \n",
    "                                                                              parameter_file) # Compute results\n",
    "\n",
    "                            accuracies.append(acc)\n",
    "                            f1_list.append(f1)\n",
    "                            prec_list.append(prec)\n",
    "                            rec_list.append(rec)\n",
    "                    \n",
    "    # Creation of dataframe with results\n",
    "    init_list = ['Default algorithm' if i == 'retrain_no' else 'Pre-trained CAE' for i in model_list]\n",
    "\n",
    "    arch_list = ['5 layers' if i == 'model_cnn_5layers' else '4 layers' for i in arch_list]\n",
    "\n",
    "    df = pd.DataFrame()\n",
    "    df['Accuracy']=accuracies\n",
    "    df['F1']=f1_list\n",
    "    df['Initialization']=init_list\n",
    "    df['Batch']=batch_list\n",
    "    df['Epochs']=epochs_list\n",
    "    df['Architecture']=arch_list\n",
    "    df['Learning rate']=lr_list\n",
    "    df['Precision']=prec_list\n",
    "    df['Recall']=rec_list\n",
    "    \n",
    "    df.to_csv('../figures/validation_model_bp.csv') \n",
    "\n",
    "else:\n",
    "    print('Performance already computed.')"
   ]
  },
  {
   "cell_type": "markdown",
   "id": "c7a3baec",
   "metadata": {},
   "source": [
    "# Hyperparameter validation - Exploration of results"
   ]
  },
  {
   "cell_type": "markdown",
   "id": "437b0d71",
   "metadata": {},
   "source": [
    "### Table 3 - Hyperparameters chosen for each dataset and corresponding performance of the classifier on the validation set of the dataset \n",
    "\n",
    "Here, we computed the results of Table 3 for BrainPedia dataset."
   ]
  },
  {
   "cell_type": "code",
   "execution_count": 5,
   "id": "20605fb2",
   "metadata": {},
   "outputs": [],
   "source": [
    "df = pd.read_csv('../figures/validation_model_bp.csv') \n",
    "lr_to_test = [1e-04]\n",
    "df_mean = pd.DataFrame(columns=['Initialization', 'Batch', 'Epochs', 'Learning rate', 'Architecture','Accuracy', 'F1'])\n",
    "for init in ['Default algorithm', 'Pre-trained CAE']:\n",
    "    for model in ['4 layers', '5 layers']:\n",
    "        for batch in batch_to_test:\n",
    "            for epochs in epochs_to_test:\n",
    "                for lr in lr_to_test:\n",
    "                    df_mean = df_mean.append({'Initialization':init, 'Batch':batch, 'Epochs':epochs, 'Learning rate':lr, 'Architecture':model, \n",
    "                              'Accuracy': np.std(df['Accuracy'][df['Architecture']==model][df['Initialization']==init][df['Epochs']==epochs][df['Batch']==batch][df['Learning rate']==lr]), \n",
    "                              'F1': np.std(df['F1'][df['Architecture']==model][df['Initialization']==init][df['Epochs']==epochs][df['Batch']==batch][df['Learning rate']==lr])}, \n",
    "                             ignore_index=True)"
   ]
  },
  {
   "cell_type": "code",
   "execution_count": 6,
   "id": "1538078a",
   "metadata": {},
   "outputs": [
    {
     "data": {
      "text/html": [
       "<div>\n",
       "<style scoped>\n",
       "    .dataframe tbody tr th:only-of-type {\n",
       "        vertical-align: middle;\n",
       "    }\n",
       "\n",
       "    .dataframe tbody tr th {\n",
       "        vertical-align: top;\n",
       "    }\n",
       "\n",
       "    .dataframe thead th {\n",
       "        text-align: right;\n",
       "    }\n",
       "</style>\n",
       "<table border=\"1\" class=\"dataframe\">\n",
       "  <thead>\n",
       "    <tr style=\"text-align: right;\">\n",
       "      <th></th>\n",
       "      <th>Initialization</th>\n",
       "      <th>Batch</th>\n",
       "      <th>Epochs</th>\n",
       "      <th>Learning rate</th>\n",
       "      <th>Architecture</th>\n",
       "      <th>Accuracy</th>\n",
       "      <th>F1</th>\n",
       "    </tr>\n",
       "  </thead>\n",
       "  <tbody>\n",
       "    <tr>\n",
       "      <th>3</th>\n",
       "      <td>Default algorithm</td>\n",
       "      <td>64</td>\n",
       "      <td>epochs_500</td>\n",
       "      <td>0.0001</td>\n",
       "      <td>4 layers</td>\n",
       "      <td>0.298903</td>\n",
       "      <td>0.299818</td>\n",
       "    </tr>\n",
       "  </tbody>\n",
       "</table>\n",
       "</div>"
      ],
      "text/plain": [
       "      Initialization Batch      Epochs  Learning rate Architecture  Accuracy  \\\n",
       "3  Default algorithm    64  epochs_500         0.0001     4 layers  0.298903   \n",
       "\n",
       "         F1  \n",
       "3  0.299818  "
      ]
     },
     "execution_count": 6,
     "metadata": {},
     "output_type": "execute_result"
    }
   ],
   "source": [
    "df_mean[df_mean['Initialization']=='Default algorithm'].nlargest(1, ['Accuracy', 'F1'])"
   ]
  },
  {
   "cell_type": "code",
   "execution_count": 7,
   "id": "2a9735e8",
   "metadata": {},
   "outputs": [
    {
     "data": {
      "text/html": [
       "<div>\n",
       "<style scoped>\n",
       "    .dataframe tbody tr th:only-of-type {\n",
       "        vertical-align: middle;\n",
       "    }\n",
       "\n",
       "    .dataframe tbody tr th {\n",
       "        vertical-align: top;\n",
       "    }\n",
       "\n",
       "    .dataframe thead th {\n",
       "        text-align: right;\n",
       "    }\n",
       "</style>\n",
       "<table border=\"1\" class=\"dataframe\">\n",
       "  <thead>\n",
       "    <tr style=\"text-align: right;\">\n",
       "      <th></th>\n",
       "      <th>Initialization</th>\n",
       "      <th>Batch</th>\n",
       "      <th>Epochs</th>\n",
       "      <th>Learning rate</th>\n",
       "      <th>Architecture</th>\n",
       "      <th>Accuracy</th>\n",
       "      <th>F1</th>\n",
       "    </tr>\n",
       "  </thead>\n",
       "  <tbody>\n",
       "    <tr>\n",
       "      <th>11</th>\n",
       "      <td>Pre-trained CAE</td>\n",
       "      <td>64</td>\n",
       "      <td>epochs_500</td>\n",
       "      <td>0.0001</td>\n",
       "      <td>4 layers</td>\n",
       "      <td>0.243754</td>\n",
       "      <td>0.229068</td>\n",
       "    </tr>\n",
       "  </tbody>\n",
       "</table>\n",
       "</div>"
      ],
      "text/plain": [
       "     Initialization Batch      Epochs  Learning rate Architecture  Accuracy  \\\n",
       "11  Pre-trained CAE    64  epochs_500         0.0001     4 layers  0.243754   \n",
       "\n",
       "          F1  \n",
       "11  0.229068  "
      ]
     },
     "execution_count": 7,
     "metadata": {},
     "output_type": "execute_result"
    }
   ],
   "source": [
    "df_mean[df_mean['Initialization']=='Pre-trained CAE'].nlargest(1, ['Accuracy', 'F1'])"
   ]
  },
  {
   "cell_type": "markdown",
   "id": "2d936cbd",
   "metadata": {},
   "source": [
    "# Test models with cross-validation"
   ]
  },
  {
   "cell_type": "markdown",
   "id": "4e52618f",
   "metadata": {},
   "source": [
    "## Small BrainPedia"
   ]
  },
  {
   "cell_type": "code",
   "execution_count": 8,
   "id": "ec9658c2",
   "metadata": {},
   "outputs": [
    {
     "name": "stdout",
     "output_type": "stream",
     "text": [
      "Performance already computed.\n"
     ]
    }
   ],
   "source": [
    "if not os.path.exists('../figures/comparison_small_bp.csv'):\n",
    "    accuracies = []\n",
    "    f1_list = []\n",
    "    model_list = []\n",
    "    train_subset = 'small_bp_dataset'\n",
    "\n",
    "    for i in range(5):\n",
    "        # Cross-validation - Each model was tested on the corresponding testing fold of the GLOBAL HCP dataset\n",
    "        test_id_file = opj(data_dir, f'test_perf_small_bp_dataset_fold_{i}.txt')\n",
    "        label_file = opj(data_dir, f'small_bp_dataset_labels.csv')\n",
    "        label_col = 'tags'\n",
    "        label_filelist = pd.read_csv(opj('../data/preprocessed/BrainPedia_dataset', \n",
    "                                     f'small_bp_dataset_labels.csv'))\n",
    "\n",
    "        label_list = sorted(np.unique(label_filelist['tags']))\n",
    "\n",
    "        test_set = datasets.ClassifDataset(opj(data_dir, preprocess_type), test_id_file, label_file, label_col,\n",
    "                                          label_list)\n",
    "\n",
    "        # Compute results performance for DEFAULT ALGORITHM\n",
    "        model = 'model_cnn_5layers_valid_perf_retrain_no'\n",
    "        epochs = 500\n",
    "        batch=64\n",
    "        lr = '1e-04'\n",
    "        model_list.append('Default algorithm')\n",
    "        parameter_file = opj(out_dir, \n",
    "    f'{train_subset}_maps_classification_{label_col}_{model}_{preprocess_type}_epochs_{epochs}_batch_size_{batch}_lr_{lr}', \n",
    "                                     f'model_fold_{i}.pt')\n",
    "\n",
    "        acc, f1, prec, rec, acc_class = cnn_tester.tester(test_set, parameter_file)\n",
    "\n",
    "        accuracies.append(acc)\n",
    "        f1_list.append(f1)\n",
    "        prec_list.append(prec)\n",
    "        rec_list.append(rec)\n",
    "\n",
    "        # Compute results performance for PRE-TRAINED CAE \n",
    "        model = 'model_cnn_5layers_valid_perf_retrain_all'\n",
    "        epochs = 200\n",
    "        batch=64\n",
    "        lr = '1e-04'\n",
    "        model_list.append('Pre-trained CAE')\n",
    "\n",
    "        parameter_file = opj(out_dir, \n",
    "            f'{train_subset}_maps_classification_{label_col}_' + \\\n",
    "                             f'{model}_{preprocess_type}_epochs_{epochs}_batch_size_{batch}_lr_{lr}', \n",
    "                                     f'model_final_fold_{i}.pt')\n",
    "\n",
    "        acc, f1, prec, rec, acc_class = cnn_tester.tester(test_set, parameter_file)\n",
    "\n",
    "        accuracies.append(acc)\n",
    "        f1_list.append(f1)\n",
    "        prec_list.append(prec)\n",
    "        rec_list.append(rec)\n",
    "\n",
    "    df_sbp = pd.DataFrame()\n",
    "    df_sbp['Accuracy']=accuracies\n",
    "    df_sbp['F1']=f1_list\n",
    "    df_sbp['Model']=model_list\n",
    "\n",
    "    df_sbp.to_csv('../figures/comparison_small_bp.csv')\n",
    "    \n",
    "else:\n",
    "    print('Performance already computed.')\n",
    "    df_sbp = pd.read_csv('../figures/comparison_small_bp.csv')"
   ]
  },
  {
   "cell_type": "code",
   "execution_count": 9,
   "id": "355d81e3",
   "metadata": {},
   "outputs": [
    {
     "name": "stdout",
     "output_type": "stream",
     "text": [
      "Accuracy\n",
      "Default algorithm\n",
      "56.8\n",
      "Pre-trained CAE\n",
      "64.5\n"
     ]
    }
   ],
   "source": [
    "df_sbp = pd.read_csv('../figures/comparison_small_bp.csv')\n",
    "print('Accuracy')\n",
    "print('Default algorithm')\n",
    "print(str(round(np.mean(df_sbp['Accuracy'][df_sbp['Model']=='Default algorithm']) * 100, 1)))\n",
    "\n",
    "print('Pre-trained CAE')\n",
    "print(str(round(np.mean(df_sbp['Accuracy'][df_sbp['Model']=='Pre-trained CAE']) * 100, 1)))"
   ]
  },
  {
   "cell_type": "code",
   "execution_count": 10,
   "id": "492ff96b",
   "metadata": {},
   "outputs": [
    {
     "name": "stdout",
     "output_type": "stream",
     "text": [
      "Accuracy\n",
      "Default algorithm\n",
      "1.5\n",
      "Pre-trained CAE\n",
      "2.1\n"
     ]
    }
   ],
   "source": [
    "print('Accuracy')\n",
    "print('Default algorithm')\n",
    "print(str(round(np.std(df_sbp['Accuracy'][df_sbp['Model']=='Default algorithm'])/np.sqrt(5) * 100, 1)))\n",
    "\n",
    "print('Pre-trained CAE')\n",
    "print(str(round(np.std(df_sbp['Accuracy'][df_sbp['Model']=='Pre-trained CAE'])/np.sqrt(5) * 100, 1)))"
   ]
  },
  {
   "cell_type": "code",
   "execution_count": 11,
   "id": "6335dd85",
   "metadata": {},
   "outputs": [
    {
     "name": "stdout",
     "output_type": "stream",
     "text": [
      "T-stat -8.72\n",
      "p-value 0.001\n"
     ]
    }
   ],
   "source": [
    "#T-test\n",
    "print('T-stat',str(round(stats.ttest_rel(df_sbp['Accuracy'][df_sbp['Model']=='Default algorithm'].tolist(), \n",
    "                               df_sbp['Accuracy'][df_sbp['Model']=='Pre-trained CAE'].tolist())[0], 2)))\n",
    "print('p-value',str(round(stats.ttest_rel(df_sbp['Accuracy'][df_sbp['Model']=='Default algorithm'], \n",
    "                               df_sbp['Accuracy'][df_sbp['Model']=='Pre-trained CAE'])[1], 4)))"
   ]
  },
  {
   "cell_type": "code",
   "execution_count": 12,
   "id": "a4d8bfe1",
   "metadata": {},
   "outputs": [
    {
     "name": "stdout",
     "output_type": "stream",
     "text": [
      "F1-score\n",
      "Default algorithm\n",
      "50.5\n",
      "Pre-trained CAE\n",
      "62.0\n"
     ]
    }
   ],
   "source": [
    "print('F1-score')\n",
    "print('Default algorithm')\n",
    "print(str(round(np.mean(df_sbp['F1'][df_sbp['Model']=='Default algorithm']) * 100, 1)))\n",
    "\n",
    "print('Pre-trained CAE')\n",
    "print(str(round(np.mean(df_sbp['F1'][df_sbp['Model']=='Pre-trained CAE']) * 100, 1)))"
   ]
  },
  {
   "cell_type": "code",
   "execution_count": 13,
   "id": "9c7ea5f0",
   "metadata": {},
   "outputs": [
    {
     "name": "stdout",
     "output_type": "stream",
     "text": [
      "F1-score\n",
      "Default algorithm\n",
      "3.5\n",
      "Pre-trained CAE\n",
      "2.1\n"
     ]
    }
   ],
   "source": [
    "print('F1-score')\n",
    "print('Default algorithm')\n",
    "print(str(round(np.std(df_sbp['F1'][df_sbp['Model']=='Default algorithm'])/np.sqrt(5) * 100, 1)))\n",
    "\n",
    "print('Pre-trained CAE')\n",
    "print(str(round(np.std(df_sbp['F1'][df_sbp['Model']=='Pre-trained CAE'])/np.sqrt(5) * 100, 1)))"
   ]
  },
  {
   "cell_type": "code",
   "execution_count": 14,
   "id": "67f59543",
   "metadata": {},
   "outputs": [
    {
     "name": "stdout",
     "output_type": "stream",
     "text": [
      "T-stat -4.89\n",
      "p-value 0.0081\n"
     ]
    }
   ],
   "source": [
    "#T-test\n",
    "print('T-stat', str(round(stats.ttest_rel(df_sbp['F1'][df_sbp['Model']=='Default algorithm'].tolist(), \n",
    "                               df_sbp['F1'][df_sbp['Model']=='Pre-trained CAE'].tolist())[0], 2)))\n",
    "print('p-value', str(round(stats.ttest_rel(df_sbp['F1'][df_sbp['Model']=='Default algorithm'], \n",
    "                               df_sbp['F1'][df_sbp['Model']=='Pre-trained CAE'])[1], 4)))"
   ]
  },
  {
   "cell_type": "markdown",
   "id": "396f491f",
   "metadata": {},
   "source": [
    "## Large BrainPedia"
   ]
  },
  {
   "cell_type": "code",
   "execution_count": 15,
   "id": "af335d06",
   "metadata": {},
   "outputs": [
    {
     "name": "stdout",
     "output_type": "stream",
     "text": [
      "Performance already computed.\n"
     ]
    }
   ],
   "source": [
    "if not os.path.exists('../figures/comparison_bp.csv'):\n",
    "    accuracies = []\n",
    "    f1_list = []\n",
    "    model_list = []\n",
    "    train_subset = 'bp_dataset'\n",
    "\n",
    "    for i in range(5):\n",
    "        # Cross-validation - Each model was tested on the corresponding testing fold of the GLOBAL HCP dataset\n",
    "        test_id_file = opj(data_dir, f'test_perf_bp_dataset_fold_{i}.txt')\n",
    "        label_file = opj(data_dir, f'bp_dataset_labels.csv')\n",
    "        label_col = 'tags'\n",
    "        label_filelist = pd.read_csv(opj('../data/preprocessed/BrainPedia_dataset', \n",
    "                                     f'bp_dataset_labels.csv'))\n",
    "\n",
    "        label_list = sorted(np.unique(label_filelist['tags']))\n",
    "\n",
    "        test_set = datasets.ClassifDataset(opj(data_dir, preprocess_type), test_id_file, label_file, label_col,\n",
    "                                          label_list)\n",
    "\n",
    "        # Compute results performance for DEFAULT ALGORITHM\n",
    "        model = 'model_cnn_5layers_valid_perf_retrain_no'\n",
    "        epochs = 500\n",
    "        batch=64\n",
    "        lr = '1e-04'\n",
    "        model_list.append('Default algorithm')\n",
    "        parameter_file = opj(out_dir, \n",
    "    f'{train_subset}_maps_classification_{label_col}_{model}_{preprocess_type}_epochs_{epochs}_batch_size_{batch}_lr_{lr}', \n",
    "                                     f'model_fold_{i}.pt')\n",
    "\n",
    "        acc, f1, prec, rec, acc_class = cnn_tester.tester(test_set, parameter_file)\n",
    "\n",
    "        accuracies.append(acc)\n",
    "        f1_list.append(f1)\n",
    "        prec_list.append(prec)\n",
    "        rec_list.append(rec)\n",
    "\n",
    "        # Compute results performance for PRE-TRAINED CAE \n",
    "        model = 'model_cnn_5layers_valid_perf_retrain_all'\n",
    "        epochs = 200\n",
    "        batch=64\n",
    "        lr = '1e-04'\n",
    "        model_list.append('Pre-trained CAE')\n",
    "\n",
    "        parameter_file = opj(out_dir, \n",
    "            f'{train_subset}_maps_classification_{label_col}_' + \\\n",
    "                             f'{model}_{preprocess_type}_epochs_{epochs}_batch_size_{batch}_lr_{lr}', \n",
    "                                     f'model_final_fold_{i}.pt')\n",
    "\n",
    "        acc, f1, prec, rec, acc_class = cnn_tester.tester(test_set, parameter_file)\n",
    "\n",
    "        accuracies.append(acc)\n",
    "        f1_list.append(f1)\n",
    "        prec_list.append(prec)\n",
    "        rec_list.append(rec)\n",
    "\n",
    "    df_sbp = pd.DataFrame()\n",
    "    df_sbp['Accuracy']=accuracies\n",
    "    df_sbp['F1']=f1_list\n",
    "    df_sbp['Model']=model_list\n",
    "\n",
    "    df_sbp.to_csv('../figures/comparison_bp.csv')\n",
    "    \n",
    "else:\n",
    "    print('Performance already computed.')\n",
    "    df_bp = pd.read_csv('../figures/comparison_bp.csv')"
   ]
  },
  {
   "cell_type": "code",
   "execution_count": 16,
   "id": "2bc70bca",
   "metadata": {},
   "outputs": [
    {
     "name": "stdout",
     "output_type": "stream",
     "text": [
      "Accuracy\n",
      "Default algorithm\n",
      "67.1\n",
      "Pre-trained CAE\n",
      "74.2\n"
     ]
    }
   ],
   "source": [
    "print('Accuracy')\n",
    "print('Default algorithm')\n",
    "print(str(round(np.mean(df_bp['Accuracy'][df_bp['Model']=='Default algorithm']) * 100, 1)))\n",
    "\n",
    "print('Pre-trained CAE')\n",
    "print(str(round(np.mean(df_bp['Accuracy'][df_bp['Model']=='Pre-trained CAE']) * 100, 1)))"
   ]
  },
  {
   "cell_type": "code",
   "execution_count": 17,
   "id": "0099a255",
   "metadata": {},
   "outputs": [
    {
     "name": "stdout",
     "output_type": "stream",
     "text": [
      "Accuracy\n",
      "Default algorithm\n",
      "0.9\n",
      "Pre-trained CAE\n",
      "2.3\n"
     ]
    }
   ],
   "source": [
    "print('Accuracy')\n",
    "print('Default algorithm')\n",
    "print(str(round(np.std(df_bp['Accuracy'][df_bp['Model']=='Default algorithm'])/np.sqrt(5) * 100, 1)))\n",
    "\n",
    "print('Pre-trained CAE')\n",
    "print(str(round(np.std(df_bp['Accuracy'][df_bp['Model']=='Pre-trained CAE'])/np.sqrt(5) * 100, 1)))"
   ]
  },
  {
   "cell_type": "code",
   "execution_count": 18,
   "id": "41117f25",
   "metadata": {},
   "outputs": [
    {
     "name": "stdout",
     "output_type": "stream",
     "text": [
      "-3.43\n",
      "0.0265\n"
     ]
    }
   ],
   "source": [
    "#T-test\n",
    "print(str(round(stats.ttest_rel(df_bp['Accuracy'][df_bp['Model']=='Default algorithm'].tolist(), \n",
    "                               df_bp['Accuracy'][df_bp['Model']=='Pre-trained CAE'].tolist())[0], 2)))\n",
    "print(str(round(stats.ttest_rel(df_bp['Accuracy'][df_bp['Model']=='Default algorithm'], \n",
    "                               df_bp['Accuracy'][df_bp['Model']=='Pre-trained CAE'])[1], 4)))"
   ]
  },
  {
   "cell_type": "code",
   "execution_count": 19,
   "id": "3683ffd1",
   "metadata": {},
   "outputs": [
    {
     "name": "stdout",
     "output_type": "stream",
     "text": [
      "F1-score\n",
      "Default algorithm\n",
      "64.9\n",
      "Pre-trained CAE\n",
      "73.6\n"
     ]
    }
   ],
   "source": [
    "print('F1-score')\n",
    "print('Default algorithm')\n",
    "print(str(round(np.mean(df_bp['F1'][df_bp['Model']=='Default algorithm']) * 100, 1)))\n",
    "\n",
    "print('Pre-trained CAE')\n",
    "print(str(round(np.mean(df_bp['F1'][df_bp['Model']=='Pre-trained CAE']) * 100, 1)))"
   ]
  },
  {
   "cell_type": "code",
   "execution_count": 20,
   "id": "69f14ac0",
   "metadata": {},
   "outputs": [
    {
     "name": "stdout",
     "output_type": "stream",
     "text": [
      "Accuracy\n",
      "Default algorithm\n",
      "0.8\n",
      "Pre-trained CAE\n",
      "2.2\n"
     ]
    }
   ],
   "source": [
    "print('Accuracy')\n",
    "print('Default algorithm')\n",
    "print(str(round(np.std(df_bp['F1'][df_bp['Model']=='Default algorithm'])/np.sqrt(5) * 100, 1)))\n",
    "\n",
    "print('Pre-trained CAE')\n",
    "print(str(round(np.std(df_bp['F1'][df_bp['Model']=='Pre-trained CAE'])/np.sqrt(5) * 100, 1)))"
   ]
  },
  {
   "cell_type": "code",
   "execution_count": 21,
   "id": "1dfe5745",
   "metadata": {},
   "outputs": [
    {
     "name": "stdout",
     "output_type": "stream",
     "text": [
      "T-stat -2.89\n",
      "p-value 0.0447\n"
     ]
    }
   ],
   "source": [
    "#T-test\n",
    "print('T-stat', str(round(stats.ttest_rel(df_bp['F1'][df_bp['Model']=='Default algorithm'].tolist(), \n",
    "                               df_bp['F1'][df_bp['Model']=='Pre-trained CAE'].tolist())[0], 2)))\n",
    "print('p-value', str(round(stats.ttest_rel(df_bp['F1'][df_bp['Model']=='Default algorithm'], \n",
    "                               df_bp['F1'][df_bp['Model']=='Pre-trained CAE'])[1], 4)))"
   ]
  },
  {
   "cell_type": "code",
   "execution_count": 22,
   "id": "84d211d8",
   "metadata": {},
   "outputs": [],
   "source": [
    "df_sbp = pd.read_csv('../figures/comparison_small_bp.csv')\n",
    "df_bp = pd.read_csv('../figures/comparison_bp.csv')\n",
    "\n",
    "df_sbp['Dataset'] = 'Small'\n",
    "df_bp['Dataset']='Large'\n",
    "\n",
    "df = df_sbp.append(df_bp)"
   ]
  },
  {
   "cell_type": "code",
   "execution_count": 23,
   "id": "d3bbee80",
   "metadata": {},
   "outputs": [
    {
     "data": {
      "image/png": "[encoded data removed]",
      "text/plain": [
       "<Figure size 432x288 with 1 Axes>"
      ]
     },
     "metadata": {},
     "output_type": "display_data"
    }
   ],
   "source": [
    "# Figure 7\n",
    "sns.set_theme(style=\"whitegrid\")\n",
    "ax = sns.pointplot(x=\"Dataset\", y=\"F1\", hue='Model',\n",
    "                 data=df, dodge=True, size=20, join = False, markers = 'o')\n",
    "\n",
    "ax.figure.savefig('../figures/fig8.png')"
   ]
  }
 ],
 "metadata": {
  "kernelspec": {
   "display_name": "Python 3 (ipykernel)",
   "language": "python",
   "name": "python3"
  },
  "language_info": {
   "codemirror_mode": {
    "name": "ipython",
    "version": 3
   },
   "file_extension": ".py",
   "mimetype": "text/x-python",
   "name": "python",
   "nbconvert_exporter": "python",
   "pygments_lexer": "ipython3",
   "version": "3.9.7"
  }
 },
 "nbformat": 4,
 "nbformat_minor": 5
}
