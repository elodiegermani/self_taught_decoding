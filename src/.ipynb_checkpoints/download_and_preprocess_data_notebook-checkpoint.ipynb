{
 "cells": [
  {
   "cell_type": "markdown",
   "id": "6794ca71",
   "metadata": {},
   "source": [
    "# Download and preprocess data of the 3 datasets"
   ]
  },
  {
   "cell_type": "code",
   "execution_count": 1,
   "id": "441fbb36",
   "metadata": {},
   "outputs": [
    {
     "name": "stderr",
     "output_type": "stream",
     "text": [
      "/Users/egermani/miniforge3/envs/workEnv/lib/python3.9/site-packages/nilearn/datasets/__init__.py:93: FutureWarning: Fetchers from the nilearn.datasets module will be updated in version 0.9 to return python strings instead of bytes and Pandas dataframes instead of Numpy arrays.\n",
      "  warn(\"Fetchers from the nilearn.datasets module will be \"\n"
     ]
    }
   ],
   "source": [
    "from lib import datasets, preprocessing\n",
    "from os.path import join as opj\n",
    "import pandas as pd\n",
    "from pyneurovault import api\n",
    "import os"
   ]
  },
  {
   "cell_type": "code",
   "execution_count": 2,
   "id": "18fac7a9",
   "metadata": {},
   "outputs": [
    {
     "name": "stderr",
     "output_type": "stream",
     "text": [
      "/Users/egermani/miniforge3/envs/workEnv/lib/python3.9/site-packages/IPython/core/interactiveshell.py:3444: DtypeWarning: Columns (7,8,9,10,12,14,18,19,23,24,26,27,28,33,39,40,41,43,47,50,51,52,54,55,56,62,63,64,67,151,152,154,1153,1156,1157,1158,1167,1168,1170,1171,1172,1175,1178,1179,1180,1181,1182,1183) have mixed types.Specify dtype option on import or set low_memory=False.\n",
      "  exec(code_obj, self.user_global_ns, self.user_ns)\n"
     ]
    }
   ],
   "source": [
    "global_df = pd.read_csv('../data/original/neurovault_api_request_images.csv')"
   ]
  },
  {
   "cell_type": "code",
   "execution_count": null,
   "id": "e5767064",
   "metadata": {},
   "outputs": [],
   "source": [
    "# NEUROVAULT DATASET \n",
    "neurovault_ids = []\n",
    "with open(opj('../data/original/NeuroVault_dataset/neurovault_dataset.txt'), \"r\") as file:\n",
    "    lines = file.readlines()\n",
    "    for line in lines:\n",
    "        neurovault_ids.append(line[:-1])\n",
    "file.close()\n",
    "\n",
    "neurovault_df = global_df[global_df['image_id'].isin([int(i) for i in neurovault_ids])]\n",
    "\n",
    "api.download_images(dest_dir = opj('../data/original/NeuroVault_dataset'), \n",
    "                    images_df=neurovault_df, resample=False)\n",
    "\n",
    "if not os.path.isdir('../data/preprocessed/NeuroVault_dataset'):\n",
    "    os.mkdir('../data/preprocessed/NeuroVault_dataset')\n",
    "\n",
    "preprocessing.preprocessing('../data/original/NeuroVault_dataset', \n",
    "                           '../data/preprocessed/NeuroVault_dataset')"
   ]
  },
  {
   "cell_type": "code",
   "execution_count": null,
   "id": "235940bb",
   "metadata": {},
   "outputs": [],
   "source": [
    "# HCP DATASET \n",
    "hcp_ids = []\n",
    "with open(opj('../data/original/HCP_dataset/hcp_dataset.txt'), \"r\") as file:\n",
    "    lines = file.readlines()\n",
    "    for line in lines:\n",
    "        hcp_ids.append(line[:-1])\n",
    "file.close()\n",
    "\n",
    "hcp_df = global_df[global_df['image_id'].isin([int(i) for i in hcp_ids])]\n",
    "\n",
    "api.download_images(dest_dir = opj('../data/original/HCP_dataset'), \n",
    "                    images_df=hcp_df, resample=False)\n",
    "\n",
    "if not os.path.isdir('../data/preprocessed/HCP_dataset'):\n",
    "    os.mkdir('../data/preprocessed/HCP_dataset')\n",
    "\n",
    "preprocessing.preprocessing('../data/original/HCP_dataset', \n",
    "                           '../data/preprocessed/HCP_dataset')"
   ]
  },
  {
   "cell_type": "code",
   "execution_count": 3,
   "id": "84fc7c0a",
   "metadata": {},
   "outputs": [],
   "source": [
    "# BRAINPEDIA DATASET \n",
    "bp_ids = []\n",
    "with open(opj('../data/original/BrainPedia_dataset/bp_dataset.txt'), \"r\") as file:\n",
    "    lines = file.readlines()\n",
    "    for line in lines:\n",
    "        bp_ids.append(line[:-1])\n",
    "file.close()\n",
    "\n",
    "bp_df = global_df[global_df['image_id'].isin([int(i) for i in bp_ids])]\n",
    "\n",
    "api.download_images(dest_dir = opj('../data/original/BrainPedia_dataset'), \n",
    "                    images_df=bp_df, resample=False)\n",
    "\n",
    "if not os.path.isdir('../data/preprocessed/BrainPedia_dataset'):\n",
    "    os.mkdir('../data/preprocessed/BrainPedia_dataset')\n",
    "\n",
    "preprocessing.preprocessing('../data/original/BrainPedia_dataset', \n",
    "                           '../data/preprocessed/BrainPedia_dataset')"
   ]
  },
  {
   "cell_type": "code",
   "execution_count": null,
   "id": "cfd77a2b",
   "metadata": {},
   "outputs": [],
   "source": []
  }
 ],
 "metadata": {
  "kernelspec": {
   "display_name": "Python 3 (ipykernel)",
   "language": "python",
   "name": "python3"
  },
  "language_info": {
   "codemirror_mode": {
    "name": "ipython",
    "version": 3
   },
   "file_extension": ".py",
   "mimetype": "text/x-python",
   "name": "python",
   "nbconvert_exporter": "python",
   "pygments_lexer": "ipython3",
   "version": "3.9.7"
  }
 },
 "nbformat": 4,
 "nbformat_minor": 5
}
